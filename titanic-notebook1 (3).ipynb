{
 "cells": [
  {
   "cell_type": "markdown",
   "id": "simplified-accommodation",
   "metadata": {
    "_cell_guid": "b1076dfc-b9ad-4769-8c92-a6c4dae69d19",
    "_uuid": "8f2839f25d086af736a60e9eeb907d3b93b6e0e5",
    "execution": {
     "iopub.execute_input": "2021-06-16T17:19:48.41141Z",
     "iopub.status.busy": "2021-06-16T17:19:48.41093Z",
     "iopub.status.idle": "2021-06-16T17:19:48.421639Z",
     "shell.execute_reply": "2021-06-16T17:19:48.420392Z",
     "shell.execute_reply.started": "2021-06-16T17:19:48.411366Z"
    },
    "papermill": {
     "duration": 0.085154,
     "end_time": "2021-06-20T16:36:38.771185",
     "exception": false,
     "start_time": "2021-06-20T16:36:38.686031",
     "status": "completed"
    },
    "tags": []
   },
   "source": [
    "#                                      **TITANIC PROJECT**\n",
    "\n",
    "This is a walktrough of the steps i took solving the Titanic data set. The objective of this project is to predict correctly who survived and did not survive the wreckage. In this notebook, 82.86% is the best score on the training set using Logistic regression."
   ]
  },
  {
   "cell_type": "markdown",
   "id": "spectacular-aerospace",
   "metadata": {
    "papermill": {
     "duration": 0.079715,
     "end_time": "2021-06-20T16:36:38.931264",
     "exception": false,
     "start_time": "2021-06-20T16:36:38.851549",
     "status": "completed"
    },
    "tags": []
   },
   "source": [
    "**Below is an overview of the steps taken**\n",
    "1. Data exploration\n",
    "2. Data cleaning\n",
    "3. Relationship between variables (INCLUDING SOME FEATURE ENGINEEERING)\n",
    "4. Feature engineering\n",
    "5. Data preprocessing\n",
    "6. Model development and comparisms\n",
    "7. Results\n",
    "8. Submission"
   ]
  },
  {
   "cell_type": "markdown",
   "id": "arctic-afternoon",
   "metadata": {
    "papermill": {
     "duration": 0.08198,
     "end_time": "2021-06-20T16:36:39.092919",
     "exception": false,
     "start_time": "2021-06-20T16:36:39.010939",
     "status": "completed"
    },
    "tags": []
   },
   "source": [
    "The cell below imports the numpy and pandas library along with our datasets."
   ]
  },
  {
   "cell_type": "code",
   "execution_count": 1,
   "id": "systematic-terminal",
   "metadata": {
    "execution": {
     "iopub.execute_input": "2021-06-20T16:36:39.261184Z",
     "iopub.status.busy": "2021-06-20T16:36:39.260057Z",
     "iopub.status.idle": "2021-06-20T16:36:39.281839Z",
     "shell.execute_reply": "2021-06-20T16:36:39.282325Z",
     "shell.execute_reply.started": "2021-06-20T16:35:36.455795Z"
    },
    "papermill": {
     "duration": 0.107928,
     "end_time": "2021-06-20T16:36:39.282651",
     "exception": false,
     "start_time": "2021-06-20T16:36:39.174723",
     "status": "completed"
    },
    "tags": []
   },
   "outputs": [
    {
     "name": "stdout",
     "output_type": "stream",
     "text": [
      "/kaggle/input/titanic/train.csv\n",
      "/kaggle/input/titanic/test.csv\n",
      "/kaggle/input/titanic/gender_submission.csv\n"
     ]
    }
   ],
   "source": [
    "# This Python 3 environment comes with many helpful analytics libraries installed\n",
    "# It is defined by the kaggle/python Docker image: https://github.com/kaggle/docker-python\n",
    "# For example, here's several helpful packages to load\n",
    "\n",
    "import numpy as np # linear algebra\n",
    "import pandas as pd # data processing, CSV file I/O (e.g. pd.read_csv)\n",
    "\n",
    "# Input data files are available in the read-only \"../input/\" directory\n",
    "# For example, running this (by clicking run or pressing Shift+Enter) will list all files under the input directory\n",
    "\n",
    "import os\n",
    "for dirname, _, filenames in os.walk('/kaggle/input'):\n",
    "    for filename in filenames:\n",
    "        print(os.path.join(dirname, filename))\n",
    "\n",
    "# You can write up to 20GB to the current directory (/kaggle/working/) that gets preserved as output when you create a version using \"Save & Run All\" \n",
    "# You can also write temporary files to /kaggle/temp/, but they won't be saved outside of the current session"
   ]
  },
  {
   "cell_type": "markdown",
   "id": "surrounded-nebraska",
   "metadata": {
    "papermill": {
     "duration": 0.082114,
     "end_time": "2021-06-20T16:36:39.449692",
     "exception": false,
     "start_time": "2021-06-20T16:36:39.367578",
     "status": "completed"
    },
    "tags": []
   },
   "source": [
    "# **Data exploration**"
   ]
  },
  {
   "cell_type": "markdown",
   "id": "juvenile-wilson",
   "metadata": {
    "papermill": {
     "duration": 0.10501,
     "end_time": "2021-06-20T16:36:39.635661",
     "exception": false,
     "start_time": "2021-06-20T16:36:39.530651",
     "status": "completed"
    },
    "tags": []
   },
   "source": [
    "Lets read our training data and have a look at the first 10 rows. The aim here is to have a proper idea of the type data contained in each column"
   ]
  },
  {
   "cell_type": "code",
   "execution_count": 2,
   "id": "oriental-athens",
   "metadata": {
    "execution": {
     "iopub.execute_input": "2021-06-20T16:36:39.805696Z",
     "iopub.status.busy": "2021-06-20T16:36:39.804977Z",
     "iopub.status.idle": "2021-06-20T16:36:39.871668Z",
     "shell.execute_reply": "2021-06-20T16:36:39.870949Z",
     "shell.execute_reply.started": "2021-06-20T16:35:36.466003Z"
    },
    "papermill": {
     "duration": 0.150637,
     "end_time": "2021-06-20T16:36:39.871825",
     "exception": false,
     "start_time": "2021-06-20T16:36:39.721188",
     "status": "completed"
    },
    "tags": []
   },
   "outputs": [
    {
     "data": {
      "text/html": [
       "<div>\n",
       "<style scoped>\n",
       "    .dataframe tbody tr th:only-of-type {\n",
       "        vertical-align: middle;\n",
       "    }\n",
       "\n",
       "    .dataframe tbody tr th {\n",
       "        vertical-align: top;\n",
       "    }\n",
       "\n",
       "    .dataframe thead th {\n",
       "        text-align: right;\n",
       "    }\n",
       "</style>\n",
       "<table border=\"1\" class=\"dataframe\">\n",
       "  <thead>\n",
       "    <tr style=\"text-align: right;\">\n",
       "      <th></th>\n",
       "      <th>PassengerId</th>\n",
       "      <th>Survived</th>\n",
       "      <th>Pclass</th>\n",
       "      <th>Name</th>\n",
       "      <th>Sex</th>\n",
       "      <th>Age</th>\n",
       "      <th>SibSp</th>\n",
       "      <th>Parch</th>\n",
       "      <th>Ticket</th>\n",
       "      <th>Fare</th>\n",
       "      <th>Cabin</th>\n",
       "      <th>Embarked</th>\n",
       "    </tr>\n",
       "  </thead>\n",
       "  <tbody>\n",
       "    <tr>\n",
       "      <th>0</th>\n",
       "      <td>1</td>\n",
       "      <td>0</td>\n",
       "      <td>3</td>\n",
       "      <td>Braund, Mr. Owen Harris</td>\n",
       "      <td>male</td>\n",
       "      <td>22.0</td>\n",
       "      <td>1</td>\n",
       "      <td>0</td>\n",
       "      <td>A/5 21171</td>\n",
       "      <td>7.2500</td>\n",
       "      <td>NaN</td>\n",
       "      <td>S</td>\n",
       "    </tr>\n",
       "    <tr>\n",
       "      <th>1</th>\n",
       "      <td>2</td>\n",
       "      <td>1</td>\n",
       "      <td>1</td>\n",
       "      <td>Cumings, Mrs. John Bradley (Florence Briggs Th...</td>\n",
       "      <td>female</td>\n",
       "      <td>38.0</td>\n",
       "      <td>1</td>\n",
       "      <td>0</td>\n",
       "      <td>PC 17599</td>\n",
       "      <td>71.2833</td>\n",
       "      <td>C85</td>\n",
       "      <td>C</td>\n",
       "    </tr>\n",
       "    <tr>\n",
       "      <th>2</th>\n",
       "      <td>3</td>\n",
       "      <td>1</td>\n",
       "      <td>3</td>\n",
       "      <td>Heikkinen, Miss. Laina</td>\n",
       "      <td>female</td>\n",
       "      <td>26.0</td>\n",
       "      <td>0</td>\n",
       "      <td>0</td>\n",
       "      <td>STON/O2. 3101282</td>\n",
       "      <td>7.9250</td>\n",
       "      <td>NaN</td>\n",
       "      <td>S</td>\n",
       "    </tr>\n",
       "    <tr>\n",
       "      <th>3</th>\n",
       "      <td>4</td>\n",
       "      <td>1</td>\n",
       "      <td>1</td>\n",
       "      <td>Futrelle, Mrs. Jacques Heath (Lily May Peel)</td>\n",
       "      <td>female</td>\n",
       "      <td>35.0</td>\n",
       "      <td>1</td>\n",
       "      <td>0</td>\n",
       "      <td>113803</td>\n",
       "      <td>53.1000</td>\n",
       "      <td>C123</td>\n",
       "      <td>S</td>\n",
       "    </tr>\n",
       "    <tr>\n",
       "      <th>4</th>\n",
       "      <td>5</td>\n",
       "      <td>0</td>\n",
       "      <td>3</td>\n",
       "      <td>Allen, Mr. William Henry</td>\n",
       "      <td>male</td>\n",
       "      <td>35.0</td>\n",
       "      <td>0</td>\n",
       "      <td>0</td>\n",
       "      <td>373450</td>\n",
       "      <td>8.0500</td>\n",
       "      <td>NaN</td>\n",
       "      <td>S</td>\n",
       "    </tr>\n",
       "    <tr>\n",
       "      <th>5</th>\n",
       "      <td>6</td>\n",
       "      <td>0</td>\n",
       "      <td>3</td>\n",
       "      <td>Moran, Mr. James</td>\n",
       "      <td>male</td>\n",
       "      <td>NaN</td>\n",
       "      <td>0</td>\n",
       "      <td>0</td>\n",
       "      <td>330877</td>\n",
       "      <td>8.4583</td>\n",
       "      <td>NaN</td>\n",
       "      <td>Q</td>\n",
       "    </tr>\n",
       "    <tr>\n",
       "      <th>6</th>\n",
       "      <td>7</td>\n",
       "      <td>0</td>\n",
       "      <td>1</td>\n",
       "      <td>McCarthy, Mr. Timothy J</td>\n",
       "      <td>male</td>\n",
       "      <td>54.0</td>\n",
       "      <td>0</td>\n",
       "      <td>0</td>\n",
       "      <td>17463</td>\n",
       "      <td>51.8625</td>\n",
       "      <td>E46</td>\n",
       "      <td>S</td>\n",
       "    </tr>\n",
       "    <tr>\n",
       "      <th>7</th>\n",
       "      <td>8</td>\n",
       "      <td>0</td>\n",
       "      <td>3</td>\n",
       "      <td>Palsson, Master. Gosta Leonard</td>\n",
       "      <td>male</td>\n",
       "      <td>2.0</td>\n",
       "      <td>3</td>\n",
       "      <td>1</td>\n",
       "      <td>349909</td>\n",
       "      <td>21.0750</td>\n",
       "      <td>NaN</td>\n",
       "      <td>S</td>\n",
       "    </tr>\n",
       "    <tr>\n",
       "      <th>8</th>\n",
       "      <td>9</td>\n",
       "      <td>1</td>\n",
       "      <td>3</td>\n",
       "      <td>Johnson, Mrs. Oscar W (Elisabeth Vilhelmina Berg)</td>\n",
       "      <td>female</td>\n",
       "      <td>27.0</td>\n",
       "      <td>0</td>\n",
       "      <td>2</td>\n",
       "      <td>347742</td>\n",
       "      <td>11.1333</td>\n",
       "      <td>NaN</td>\n",
       "      <td>S</td>\n",
       "    </tr>\n",
       "    <tr>\n",
       "      <th>9</th>\n",
       "      <td>10</td>\n",
       "      <td>1</td>\n",
       "      <td>2</td>\n",
       "      <td>Nasser, Mrs. Nicholas (Adele Achem)</td>\n",
       "      <td>female</td>\n",
       "      <td>14.0</td>\n",
       "      <td>1</td>\n",
       "      <td>0</td>\n",
       "      <td>237736</td>\n",
       "      <td>30.0708</td>\n",
       "      <td>NaN</td>\n",
       "      <td>C</td>\n",
       "    </tr>\n",
       "  </tbody>\n",
       "</table>\n",
       "</div>"
      ],
      "text/plain": [
       "   PassengerId  Survived  Pclass  \\\n",
       "0            1         0       3   \n",
       "1            2         1       1   \n",
       "2            3         1       3   \n",
       "3            4         1       1   \n",
       "4            5         0       3   \n",
       "5            6         0       3   \n",
       "6            7         0       1   \n",
       "7            8         0       3   \n",
       "8            9         1       3   \n",
       "9           10         1       2   \n",
       "\n",
       "                                                Name     Sex   Age  SibSp  \\\n",
       "0                            Braund, Mr. Owen Harris    male  22.0      1   \n",
       "1  Cumings, Mrs. John Bradley (Florence Briggs Th...  female  38.0      1   \n",
       "2                             Heikkinen, Miss. Laina  female  26.0      0   \n",
       "3       Futrelle, Mrs. Jacques Heath (Lily May Peel)  female  35.0      1   \n",
       "4                           Allen, Mr. William Henry    male  35.0      0   \n",
       "5                                   Moran, Mr. James    male   NaN      0   \n",
       "6                            McCarthy, Mr. Timothy J    male  54.0      0   \n",
       "7                     Palsson, Master. Gosta Leonard    male   2.0      3   \n",
       "8  Johnson, Mrs. Oscar W (Elisabeth Vilhelmina Berg)  female  27.0      0   \n",
       "9                Nasser, Mrs. Nicholas (Adele Achem)  female  14.0      1   \n",
       "\n",
       "   Parch            Ticket     Fare Cabin Embarked  \n",
       "0      0         A/5 21171   7.2500   NaN        S  \n",
       "1      0          PC 17599  71.2833   C85        C  \n",
       "2      0  STON/O2. 3101282   7.9250   NaN        S  \n",
       "3      0            113803  53.1000  C123        S  \n",
       "4      0            373450   8.0500   NaN        S  \n",
       "5      0            330877   8.4583   NaN        Q  \n",
       "6      0             17463  51.8625   E46        S  \n",
       "7      1            349909  21.0750   NaN        S  \n",
       "8      2            347742  11.1333   NaN        S  \n",
       "9      0            237736  30.0708   NaN        C  "
      ]
     },
     "execution_count": 2,
     "metadata": {},
     "output_type": "execute_result"
    }
   ],
   "source": [
    "df=pd.read_csv('/kaggle/input/titanic/train.csv')\n",
    "df.head(10)"
   ]
  },
  {
   "cell_type": "markdown",
   "id": "urban-french",
   "metadata": {
    "papermill": {
     "duration": 0.081355,
     "end_time": "2021-06-20T16:36:40.035072",
     "exception": false,
     "start_time": "2021-06-20T16:36:39.953717",
     "status": "completed"
    },
    "tags": []
   },
   "source": [
    "Lets have a look at the mean, maximum and minimum values of columns with numerical data."
   ]
  },
  {
   "cell_type": "code",
   "execution_count": 3,
   "id": "offshore-reason",
   "metadata": {
    "execution": {
     "iopub.execute_input": "2021-06-20T16:36:40.210643Z",
     "iopub.status.busy": "2021-06-20T16:36:40.209605Z",
     "iopub.status.idle": "2021-06-20T16:36:40.246437Z",
     "shell.execute_reply": "2021-06-20T16:36:40.245754Z",
     "shell.execute_reply.started": "2021-06-20T16:35:36.499949Z"
    },
    "papermill": {
     "duration": 0.128068,
     "end_time": "2021-06-20T16:36:40.246583",
     "exception": false,
     "start_time": "2021-06-20T16:36:40.118515",
     "status": "completed"
    },
    "tags": []
   },
   "outputs": [
    {
     "data": {
      "text/html": [
       "<div>\n",
       "<style scoped>\n",
       "    .dataframe tbody tr th:only-of-type {\n",
       "        vertical-align: middle;\n",
       "    }\n",
       "\n",
       "    .dataframe tbody tr th {\n",
       "        vertical-align: top;\n",
       "    }\n",
       "\n",
       "    .dataframe thead th {\n",
       "        text-align: right;\n",
       "    }\n",
       "</style>\n",
       "<table border=\"1\" class=\"dataframe\">\n",
       "  <thead>\n",
       "    <tr style=\"text-align: right;\">\n",
       "      <th></th>\n",
       "      <th>PassengerId</th>\n",
       "      <th>Survived</th>\n",
       "      <th>Pclass</th>\n",
       "      <th>Age</th>\n",
       "      <th>SibSp</th>\n",
       "      <th>Parch</th>\n",
       "      <th>Fare</th>\n",
       "    </tr>\n",
       "  </thead>\n",
       "  <tbody>\n",
       "    <tr>\n",
       "      <th>count</th>\n",
       "      <td>891.000000</td>\n",
       "      <td>891.000000</td>\n",
       "      <td>891.000000</td>\n",
       "      <td>714.000000</td>\n",
       "      <td>891.000000</td>\n",
       "      <td>891.000000</td>\n",
       "      <td>891.000000</td>\n",
       "    </tr>\n",
       "    <tr>\n",
       "      <th>mean</th>\n",
       "      <td>446.000000</td>\n",
       "      <td>0.383838</td>\n",
       "      <td>2.308642</td>\n",
       "      <td>29.699118</td>\n",
       "      <td>0.523008</td>\n",
       "      <td>0.381594</td>\n",
       "      <td>32.204208</td>\n",
       "    </tr>\n",
       "    <tr>\n",
       "      <th>std</th>\n",
       "      <td>257.353842</td>\n",
       "      <td>0.486592</td>\n",
       "      <td>0.836071</td>\n",
       "      <td>14.526497</td>\n",
       "      <td>1.102743</td>\n",
       "      <td>0.806057</td>\n",
       "      <td>49.693429</td>\n",
       "    </tr>\n",
       "    <tr>\n",
       "      <th>min</th>\n",
       "      <td>1.000000</td>\n",
       "      <td>0.000000</td>\n",
       "      <td>1.000000</td>\n",
       "      <td>0.420000</td>\n",
       "      <td>0.000000</td>\n",
       "      <td>0.000000</td>\n",
       "      <td>0.000000</td>\n",
       "    </tr>\n",
       "    <tr>\n",
       "      <th>25%</th>\n",
       "      <td>223.500000</td>\n",
       "      <td>0.000000</td>\n",
       "      <td>2.000000</td>\n",
       "      <td>20.125000</td>\n",
       "      <td>0.000000</td>\n",
       "      <td>0.000000</td>\n",
       "      <td>7.910400</td>\n",
       "    </tr>\n",
       "    <tr>\n",
       "      <th>50%</th>\n",
       "      <td>446.000000</td>\n",
       "      <td>0.000000</td>\n",
       "      <td>3.000000</td>\n",
       "      <td>28.000000</td>\n",
       "      <td>0.000000</td>\n",
       "      <td>0.000000</td>\n",
       "      <td>14.454200</td>\n",
       "    </tr>\n",
       "    <tr>\n",
       "      <th>75%</th>\n",
       "      <td>668.500000</td>\n",
       "      <td>1.000000</td>\n",
       "      <td>3.000000</td>\n",
       "      <td>38.000000</td>\n",
       "      <td>1.000000</td>\n",
       "      <td>0.000000</td>\n",
       "      <td>31.000000</td>\n",
       "    </tr>\n",
       "    <tr>\n",
       "      <th>max</th>\n",
       "      <td>891.000000</td>\n",
       "      <td>1.000000</td>\n",
       "      <td>3.000000</td>\n",
       "      <td>80.000000</td>\n",
       "      <td>8.000000</td>\n",
       "      <td>6.000000</td>\n",
       "      <td>512.329200</td>\n",
       "    </tr>\n",
       "  </tbody>\n",
       "</table>\n",
       "</div>"
      ],
      "text/plain": [
       "       PassengerId    Survived      Pclass         Age       SibSp  \\\n",
       "count   891.000000  891.000000  891.000000  714.000000  891.000000   \n",
       "mean    446.000000    0.383838    2.308642   29.699118    0.523008   \n",
       "std     257.353842    0.486592    0.836071   14.526497    1.102743   \n",
       "min       1.000000    0.000000    1.000000    0.420000    0.000000   \n",
       "25%     223.500000    0.000000    2.000000   20.125000    0.000000   \n",
       "50%     446.000000    0.000000    3.000000   28.000000    0.000000   \n",
       "75%     668.500000    1.000000    3.000000   38.000000    1.000000   \n",
       "max     891.000000    1.000000    3.000000   80.000000    8.000000   \n",
       "\n",
       "            Parch        Fare  \n",
       "count  891.000000  891.000000  \n",
       "mean     0.381594   32.204208  \n",
       "std      0.806057   49.693429  \n",
       "min      0.000000    0.000000  \n",
       "25%      0.000000    7.910400  \n",
       "50%      0.000000   14.454200  \n",
       "75%      0.000000   31.000000  \n",
       "max      6.000000  512.329200  "
      ]
     },
     "execution_count": 3,
     "metadata": {},
     "output_type": "execute_result"
    }
   ],
   "source": [
    "df.describe()"
   ]
  },
  {
   "cell_type": "markdown",
   "id": "functioning-lecture",
   "metadata": {
    "papermill": {
     "duration": 0.081734,
     "end_time": "2021-06-20T16:36:40.413966",
     "exception": false,
     "start_time": "2021-06-20T16:36:40.332232",
     "status": "completed"
    },
    "tags": []
   },
   "source": [
    "From the cells above there are some missing/null values in the 'Cabin','Age' and 'EMbarked' column (from their count), lets have a look at the number of null values in all columns. lets also have a look at the shape of our training set."
   ]
  },
  {
   "cell_type": "code",
   "execution_count": 4,
   "id": "massive-paintball",
   "metadata": {
    "execution": {
     "iopub.execute_input": "2021-06-20T16:36:40.589057Z",
     "iopub.status.busy": "2021-06-20T16:36:40.588085Z",
     "iopub.status.idle": "2021-06-20T16:36:40.591296Z",
     "shell.execute_reply": "2021-06-20T16:36:40.591932Z",
     "shell.execute_reply.started": "2021-06-20T16:35:36.534883Z"
    },
    "papermill": {
     "duration": 0.094975,
     "end_time": "2021-06-20T16:36:40.592126",
     "exception": false,
     "start_time": "2021-06-20T16:36:40.497151",
     "status": "completed"
    },
    "tags": []
   },
   "outputs": [
    {
     "name": "stdout",
     "output_type": "stream",
     "text": [
      "PassengerId      0\n",
      "Survived         0\n",
      "Pclass           0\n",
      "Name             0\n",
      "Sex              0\n",
      "Age            177\n",
      "SibSp            0\n",
      "Parch            0\n",
      "Ticket           0\n",
      "Fare             0\n",
      "Cabin          687\n",
      "Embarked         2\n",
      "dtype: int64 (891, 12)\n"
     ]
    }
   ],
   "source": [
    "l=df.isnull().sum()\n",
    "print(l , df.shape)"
   ]
  },
  {
   "cell_type": "markdown",
   "id": "temporal-flexibility",
   "metadata": {
    "papermill": {
     "duration": 0.082725,
     "end_time": "2021-06-20T16:36:40.756966",
     "exception": false,
     "start_time": "2021-06-20T16:36:40.674241",
     "status": "completed"
    },
    "tags": []
   },
   "source": [
    "We can now see the number of missing values in the 'Age', 'Cabin' and 'Embarked' column, later on we would do some imputations to handle them."
   ]
  },
  {
   "cell_type": "markdown",
   "id": "graphic-oregon",
   "metadata": {
    "papermill": {
     "duration": 0.083128,
     "end_time": "2021-06-20T16:36:40.925714",
     "exception": false,
     "start_time": "2021-06-20T16:36:40.842586",
     "status": "completed"
    },
    "tags": []
   },
   "source": [
    "The cell below is used to check the degree of correlation between columns., note that each column is expected to be perfectly corrolated with itself and the only other columns with the most correlation are the 'SipSp' (sibling to parent ratio), and 'Parch' (parent to children ratio) columns."
   ]
  },
  {
   "cell_type": "code",
   "execution_count": 5,
   "id": "answering-olive",
   "metadata": {
    "execution": {
     "iopub.execute_input": "2021-06-20T16:36:41.098902Z",
     "iopub.status.busy": "2021-06-20T16:36:41.097858Z",
     "iopub.status.idle": "2021-06-20T16:36:42.369543Z",
     "shell.execute_reply": "2021-06-20T16:36:42.369997Z",
     "shell.execute_reply.started": "2021-06-20T16:35:36.545040Z"
    },
    "papermill": {
     "duration": 1.358396,
     "end_time": "2021-06-20T16:36:42.370188",
     "exception": false,
     "start_time": "2021-06-20T16:36:41.011792",
     "status": "completed"
    },
    "tags": []
   },
   "outputs": [
    {
     "data": {
      "text/plain": [
       "<AxesSubplot:>"
      ]
     },
     "execution_count": 5,
     "metadata": {},
     "output_type": "execute_result"
    },
    {
     "data": {
      "image/png": "[encoded data removed]",
      "text/plain": [
       "<Figure size 432x288 with 2 Axes>"
      ]
     },
     "metadata": {
      "needs_background": "light"
     },
     "output_type": "display_data"
    }
   ],
   "source": [
    "import seaborn as sns\n",
    "sns.heatmap(df.corr())"
   ]
  },
  {
   "cell_type": "markdown",
   "id": "medium-canyon",
   "metadata": {
    "papermill": {
     "duration": 0.083813,
     "end_time": "2021-06-20T16:36:42.537816",
     "exception": false,
     "start_time": "2021-06-20T16:36:42.454003",
     "status": "completed"
    },
    "tags": []
   },
   "source": [
    "# **DATA CLEANING**"
   ]
  },
  {
   "cell_type": "markdown",
   "id": "mounted-distributor",
   "metadata": {
    "papermill": {
     "duration": 0.083031,
     "end_time": "2021-06-20T16:36:42.704496",
     "exception": false,
     "start_time": "2021-06-20T16:36:42.621465",
     "status": "completed"
    },
    "tags": []
   },
   "source": [
    "Let's have a look at where we have null values."
   ]
  },
  {
   "cell_type": "code",
   "execution_count": 6,
   "id": "missing-people",
   "metadata": {
    "execution": {
     "iopub.execute_input": "2021-06-20T16:36:42.875784Z",
     "iopub.status.busy": "2021-06-20T16:36:42.874619Z",
     "iopub.status.idle": "2021-06-20T16:36:42.884928Z",
     "shell.execute_reply": "2021-06-20T16:36:42.884356Z",
     "shell.execute_reply.started": "2021-06-20T16:35:36.839058Z"
    },
    "papermill": {
     "duration": 0.097231,
     "end_time": "2021-06-20T16:36:42.885069",
     "exception": false,
     "start_time": "2021-06-20T16:36:42.787838",
     "status": "completed"
    },
    "tags": []
   },
   "outputs": [
    {
     "data": {
      "text/plain": [
       "PassengerId      0\n",
       "Survived         0\n",
       "Pclass           0\n",
       "Name             0\n",
       "Sex              0\n",
       "Age            177\n",
       "SibSp            0\n",
       "Parch            0\n",
       "Ticket           0\n",
       "Fare             0\n",
       "Cabin          687\n",
       "Embarked         2\n",
       "dtype: int64"
      ]
     },
     "execution_count": 6,
     "metadata": {},
     "output_type": "execute_result"
    }
   ],
   "source": [
    "d=df.isnull().sum()\n",
    "d"
   ]
  },
  {
   "cell_type": "markdown",
   "id": "enabling-mobility",
   "metadata": {
    "papermill": {
     "duration": 0.083259,
     "end_time": "2021-06-20T16:36:43.051471",
     "exception": false,
     "start_time": "2021-06-20T16:36:42.968212",
     "status": "completed"
    },
    "tags": []
   },
   "source": [
    "We have a large number of null values, so dropping them would not be a smart move as than would mean loosing over half of our data. Hence we would be doing some imputation."
   ]
  },
  {
   "cell_type": "markdown",
   "id": "nasty-point",
   "metadata": {
    "papermill": {
     "duration": 0.082667,
     "end_time": "2021-06-20T16:36:43.219202",
     "exception": false,
     "start_time": "2021-06-20T16:36:43.136535",
     "status": "completed"
    },
    "tags": []
   },
   "source": [
    "For the Age column we would be imputing randum numbers between the 'mean - standard deviation' of the ages and 'mean + standard deviation' of the ages in the cell below."
   ]
  },
  {
   "cell_type": "code",
   "execution_count": 7,
   "id": "dependent-smart",
   "metadata": {
    "execution": {
     "iopub.execute_input": "2021-06-20T16:36:43.393680Z",
     "iopub.status.busy": "2021-06-20T16:36:43.392775Z",
     "iopub.status.idle": "2021-06-20T16:36:43.413748Z",
     "shell.execute_reply": "2021-06-20T16:36:43.414233Z",
     "shell.execute_reply.started": "2021-06-20T16:35:36.849294Z"
    },
    "papermill": {
     "duration": 0.111878,
     "end_time": "2021-06-20T16:36:43.414484",
     "exception": false,
     "start_time": "2021-06-20T16:36:43.302606",
     "status": "completed"
    },
    "tags": []
   },
   "outputs": [],
   "source": [
    "\n",
    "test_data=pd.read_csv('/kaggle/input/titanic/test.csv')\n",
    "data = [df, test_data]\n",
    "for dataset in data:\n",
    "    mean = df[\"Age\"].mean()\n",
    "    std = test_data[\"Age\"].std()\n",
    "    is_null = dataset[\"Age\"].isnull().sum()\n",
    "    # compute random numbers between the mean, std and is_null\n",
    "    rand_age = np.random.randint(mean - std, mean + std, size = is_null)\n",
    "    # fill NaN values in Age column with random values generated\n",
    "    age_slice = dataset[\"Age\"].copy()\n",
    "    age_slice[np.isnan(age_slice)] = rand_age\n",
    "    dataset[\"Age\"] = age_slice\n",
    "    dataset[\"Age\"] = dataset[\"Age\"].astype(int)"
   ]
  },
  {
   "cell_type": "markdown",
   "id": "banned-measure",
   "metadata": {
    "papermill": {
     "duration": 0.083082,
     "end_time": "2021-06-20T16:36:43.581118",
     "exception": false,
     "start_time": "2021-06-20T16:36:43.498036",
     "status": "completed"
    },
    "tags": []
   },
   "source": [
    "Let's have a look at how many unique values we have in the embarked column."
   ]
  },
  {
   "cell_type": "code",
   "execution_count": 8,
   "id": "rotary-ridge",
   "metadata": {
    "execution": {
     "iopub.execute_input": "2021-06-20T16:36:43.758811Z",
     "iopub.status.busy": "2021-06-20T16:36:43.757902Z",
     "iopub.status.idle": "2021-06-20T16:36:43.762084Z",
     "shell.execute_reply": "2021-06-20T16:36:43.761515Z",
     "shell.execute_reply.started": "2021-06-20T16:35:36.876411Z"
    },
    "papermill": {
     "duration": 0.097385,
     "end_time": "2021-06-20T16:36:43.762223",
     "exception": false,
     "start_time": "2021-06-20T16:36:43.664838",
     "status": "completed"
    },
    "tags": []
   },
   "outputs": [
    {
     "data": {
      "text/plain": [
       "S    644\n",
       "C    168\n",
       "Q     77\n",
       "Name: Embarked, dtype: int64"
      ]
     },
     "execution_count": 8,
     "metadata": {},
     "output_type": "execute_result"
    }
   ],
   "source": [
    "df.Embarked.value_counts()\n"
   ]
  },
  {
   "cell_type": "markdown",
   "id": "detected-apple",
   "metadata": {
    "papermill": {
     "duration": 0.086273,
     "end_time": "2021-06-20T16:36:43.932665",
     "exception": false,
     "start_time": "2021-06-20T16:36:43.846392",
     "status": "completed"
    },
    "tags": []
   },
   "source": [
    "Now let's have a look at the position of the null values."
   ]
  },
  {
   "cell_type": "code",
   "execution_count": 9,
   "id": "eight-divide",
   "metadata": {
    "execution": {
     "iopub.execute_input": "2021-06-20T16:36:44.104874Z",
     "iopub.status.busy": "2021-06-20T16:36:44.104094Z",
     "iopub.status.idle": "2021-06-20T16:36:44.108786Z",
     "shell.execute_reply": "2021-06-20T16:36:44.109299Z",
     "shell.execute_reply.started": "2021-06-20T16:35:36.886384Z"
    },
    "papermill": {
     "duration": 0.092675,
     "end_time": "2021-06-20T16:36:44.109518",
     "exception": false,
     "start_time": "2021-06-20T16:36:44.016843",
     "status": "completed"
    },
    "tags": []
   },
   "outputs": [],
   "source": [
    "for i,j in enumerate(df.Embarked):\n",
    "    if j==\"nan\":\n",
    "        print(i,j)"
   ]
  },
  {
   "cell_type": "code",
   "execution_count": 10,
   "id": "variable-parent",
   "metadata": {
    "execution": {
     "iopub.execute_input": "2021-06-20T16:36:44.282519Z",
     "iopub.status.busy": "2021-06-20T16:36:44.281822Z",
     "iopub.status.idle": "2021-06-20T16:36:44.291098Z",
     "shell.execute_reply": "2021-06-20T16:36:44.291631Z",
     "shell.execute_reply.started": "2021-06-20T16:35:36.896739Z"
    },
    "papermill": {
     "duration": 0.096642,
     "end_time": "2021-06-20T16:36:44.291806",
     "exception": false,
     "start_time": "2021-06-20T16:36:44.195164",
     "status": "completed"
    },
    "tags": []
   },
   "outputs": [
    {
     "data": {
      "text/plain": [
       "61     NaN\n",
       "829    NaN\n",
       "Name: Embarked, dtype: object"
      ]
     },
     "execution_count": 10,
     "metadata": {},
     "output_type": "execute_result"
    }
   ],
   "source": [
    "df.iloc[[61,829]]['Embarked']"
   ]
  },
  {
   "cell_type": "markdown",
   "id": "posted-algebra",
   "metadata": {
    "papermill": {
     "duration": 0.084298,
     "end_time": "2021-06-20T16:36:44.460102",
     "exception": false,
     "start_time": "2021-06-20T16:36:44.375804",
     "status": "completed"
    },
    "tags": []
   },
   "source": [
    "Now that we have the index of the 'nan' values, we can input the value with the highest frequency, which is 'S'"
   ]
  },
  {
   "cell_type": "code",
   "execution_count": 11,
   "id": "dominant-sword",
   "metadata": {
    "execution": {
     "iopub.execute_input": "2021-06-20T16:36:44.631092Z",
     "iopub.status.busy": "2021-06-20T16:36:44.630506Z",
     "iopub.status.idle": "2021-06-20T16:36:44.643698Z",
     "shell.execute_reply": "2021-06-20T16:36:44.644176Z",
     "shell.execute_reply.started": "2021-06-20T16:35:36.913889Z"
    },
    "papermill": {
     "duration": 0.099619,
     "end_time": "2021-06-20T16:36:44.644384",
     "exception": false,
     "start_time": "2021-06-20T16:36:44.544765",
     "status": "completed"
    },
    "tags": []
   },
   "outputs": [
    {
     "name": "stderr",
     "output_type": "stream",
     "text": [
      "/opt/conda/lib/python3.7/site-packages/ipykernel_launcher.py:1: SettingWithCopyWarning: \n",
      "A value is trying to be set on a copy of a slice from a DataFrame\n",
      "\n",
      "See the caveats in the documentation: https://pandas.pydata.org/pandas-docs/stable/user_guide/indexing.html#returning-a-view-versus-a-copy\n",
      "  \"\"\"Entry point for launching an IPython kernel.\n",
      "/opt/conda/lib/python3.7/site-packages/ipykernel_launcher.py:2: SettingWithCopyWarning: \n",
      "A value is trying to be set on a copy of a slice from a DataFrame\n",
      "\n",
      "See the caveats in the documentation: https://pandas.pydata.org/pandas-docs/stable/user_guide/indexing.html#returning-a-view-versus-a-copy\n",
      "  \n"
     ]
    },
    {
     "data": {
      "text/plain": [
       "S    646\n",
       "C    168\n",
       "Q     77\n",
       "Name: Embarked, dtype: int64"
      ]
     },
     "execution_count": 11,
     "metadata": {},
     "output_type": "execute_result"
    }
   ],
   "source": [
    "df.Embarked[61]='S'\n",
    "df.Embarked[829]='S'\n",
    "df.Embarked.value_counts()"
   ]
  },
  {
   "cell_type": "markdown",
   "id": "meaningful-objective",
   "metadata": {
    "papermill": {
     "duration": 0.084847,
     "end_time": "2021-06-20T16:36:44.814640",
     "exception": false,
     "start_time": "2021-06-20T16:36:44.729793",
     "status": "completed"
    },
    "tags": []
   },
   "source": [
    "Let's check if our imputation was a success"
   ]
  },
  {
   "cell_type": "code",
   "execution_count": 12,
   "id": "alive-strip",
   "metadata": {
    "execution": {
     "iopub.execute_input": "2021-06-20T16:36:45.039225Z",
     "iopub.status.busy": "2021-06-20T16:36:45.038587Z",
     "iopub.status.idle": "2021-06-20T16:36:45.042219Z",
     "shell.execute_reply": "2021-06-20T16:36:45.042658Z",
     "shell.execute_reply.started": "2021-06-20T16:35:36.933500Z"
    },
    "papermill": {
     "duration": 0.094833,
     "end_time": "2021-06-20T16:36:45.042838",
     "exception": false,
     "start_time": "2021-06-20T16:36:44.948005",
     "status": "completed"
    },
    "tags": []
   },
   "outputs": [
    {
     "data": {
      "text/plain": [
       "array(['S', 'C', 'Q'], dtype=object)"
      ]
     },
     "execution_count": 12,
     "metadata": {},
     "output_type": "execute_result"
    }
   ],
   "source": [
    "df.Embarked.unique()"
   ]
  },
  {
   "cell_type": "markdown",
   "id": "genuine-offer",
   "metadata": {
    "papermill": {
     "duration": 0.085071,
     "end_time": "2021-06-20T16:36:45.213180",
     "exception": false,
     "start_time": "2021-06-20T16:36:45.128109",
     "status": "completed"
    },
    "tags": []
   },
   "source": [
    "# **Relationship between variables**"
   ]
  },
  {
   "cell_type": "markdown",
   "id": "nonprofit-premium",
   "metadata": {
    "papermill": {
     "duration": 0.08578,
     "end_time": "2021-06-20T16:36:45.384262",
     "exception": false,
     "start_time": "2021-06-20T16:36:45.298482",
     "status": "completed"
    },
    "tags": []
   },
   "source": [
    "Relationship between variables refers to the relationsship between the dependent variable ('Survived' column) and the independent variable (other columns).\n",
    "let's first have a look at the survival rate using seaborne.\n",
    "\n",
    "\n",
    "survival rate using seabornes."
   ]
  },
  {
   "cell_type": "code",
   "execution_count": 13,
   "id": "english-algorithm",
   "metadata": {
    "execution": {
     "iopub.execute_input": "2021-06-20T16:36:45.562933Z",
     "iopub.status.busy": "2021-06-20T16:36:45.562240Z",
     "iopub.status.idle": "2021-06-20T16:36:45.678825Z",
     "shell.execute_reply": "2021-06-20T16:36:45.678184Z",
     "shell.execute_reply.started": "2021-06-20T16:35:36.944576Z"
    },
    "papermill": {
     "duration": 0.208839,
     "end_time": "2021-06-20T16:36:45.678964",
     "exception": false,
     "start_time": "2021-06-20T16:36:45.470125",
     "status": "completed"
    },
    "tags": []
   },
   "outputs": [
    {
     "data": {
      "text/plain": [
       "<AxesSubplot:xlabel='Survived', ylabel='count'>"
      ]
     },
     "execution_count": 13,
     "metadata": {},
     "output_type": "execute_result"
    },
    {
     "data": {
      "image/png": "[encoded data removed]",
      "text/plain": [
       "<Figure size 432x288 with 1 Axes>"
      ]
     },
     "metadata": {
      "needs_background": "light"
     },
     "output_type": "display_data"
    }
   ],
   "source": [
    "sns.countplot(data=df, x='Survived')"
   ]
  },
  {
   "cell_type": "markdown",
   "id": "broken-transition",
   "metadata": {
    "papermill": {
     "duration": 0.085678,
     "end_time": "2021-06-20T16:36:45.851089",
     "exception": false,
     "start_time": "2021-06-20T16:36:45.765411",
     "status": "completed"
    },
    "tags": []
   },
   "source": [
    "From the plot above it's clear that more poeple died than survived, over 500 passengers died while less than 400 survived. lets have a look at how the \n",
    "independent variables (sex, age, embarhed, fare, Pclass etc) are related to the survival rate. We would be starting with sex."
   ]
  },
  {
   "cell_type": "code",
   "execution_count": 14,
   "id": "normal-hampton",
   "metadata": {
    "execution": {
     "iopub.execute_input": "2021-06-20T16:36:46.049637Z",
     "iopub.status.busy": "2021-06-20T16:36:46.047343Z",
     "iopub.status.idle": "2021-06-20T16:36:46.311955Z",
     "shell.execute_reply": "2021-06-20T16:36:46.311289Z",
     "shell.execute_reply.started": "2021-06-20T16:35:37.044354Z"
    },
    "papermill": {
     "duration": 0.375354,
     "end_time": "2021-06-20T16:36:46.312100",
     "exception": false,
     "start_time": "2021-06-20T16:36:45.936746",
     "status": "completed"
    },
    "tags": []
   },
   "outputs": [
    {
     "data": {
      "text/plain": [
       "<AxesSubplot:xlabel='Sex', ylabel='count'>"
      ]
     },
     "execution_count": 14,
     "metadata": {},
     "output_type": "execute_result"
    },
    {
     "data": {
      "image/png": "[encoded data removed]",
      "text/plain": [
       "<Figure size 1440x360 with 2 Axes>"
      ]
     },
     "metadata": {
      "needs_background": "light"
     },
     "output_type": "display_data"
    }
   ],
   "source": [
    "from matplotlib import pyplot as plt\n",
    "fig, axes = plt.subplots(1,2, figsize=(20,5))\n",
    "sns.countplot(ax=axes[0], data=df,x='Sex')\n",
    "sns.countplot(ax=axes[1],data=df,x='Sex',hue='Survived')"
   ]
  },
  {
   "cell_type": "markdown",
   "id": "arranged-blogger",
   "metadata": {
    "papermill": {
     "duration": 0.08702,
     "end_time": "2021-06-20T16:36:46.486410",
     "exception": false,
     "start_time": "2021-06-20T16:36:46.399390",
     "status": "completed"
    },
    "tags": []
   },
   "source": [
    "The plot above shows the survival rate with respect to sex. The plot on the left shows the total number of males and females that boarded the ship while the one on the right shows the amount of males and females that survived or not. Less than 110 (20 percent) of the males on the ship survived while over 200 (70 percent) of the females survived. Hence a female has a higher chance of survival (4 times more) than a male. we can go ahead to check the survival rate with respect to the point of embarkment.\n"
   ]
  },
  {
   "cell_type": "code",
   "execution_count": 15,
   "id": "shaped-buyer",
   "metadata": {
    "execution": {
     "iopub.execute_input": "2021-06-20T16:36:46.710664Z",
     "iopub.status.busy": "2021-06-20T16:36:46.697600Z",
     "iopub.status.idle": "2021-06-20T16:36:47.051752Z",
     "shell.execute_reply": "2021-06-20T16:36:47.051106Z",
     "shell.execute_reply.started": "2021-06-20T16:35:37.255233Z"
    },
    "papermill": {
     "duration": 0.47849,
     "end_time": "2021-06-20T16:36:47.051902",
     "exception": false,
     "start_time": "2021-06-20T16:36:46.573412",
     "status": "completed"
    },
    "tags": []
   },
   "outputs": [
    {
     "data": {
      "text/plain": [
       "<AxesSubplot:xlabel='Embarked', ylabel='Survived'>"
      ]
     },
     "execution_count": 15,
     "metadata": {},
     "output_type": "execute_result"
    },
    {
     "data": {
      "image/png": "[encoded data removed]",
      "text/plain": [
       "<Figure size 1440x360 with 2 Axes>"
      ]
     },
     "metadata": {
      "needs_background": "light"
     },
     "output_type": "display_data"
    }
   ],
   "source": [
    "sns.set_palette('Paired')\n",
    "fig, axes = plt.subplots(1,2, figsize=(20,5))\n",
    "sns.countplot(ax=axes[0], data=df,x='Embarked')\n",
    "sns.barplot(ax=axes[1],data=df, x= 'Embarked', y='Survived')\n"
   ]
  },
  {
   "cell_type": "markdown",
   "id": "banned-merchandise",
   "metadata": {
    "papermill": {
     "duration": 0.087952,
     "end_time": "2021-06-20T16:36:47.230442",
     "exception": false,
     "start_time": "2021-06-20T16:36:47.142490",
     "status": "completed"
    },
    "tags": []
   },
   "source": [
    "The plot on the left shows the total number of passengers that embarked from fifferent points, while 'nan' stands for those passengers whose point of embarkment was not recorded, while that on the right represents the percentage of passengers that survived from each point of embarkment.\n",
    "From the barplot it is evident that passengers that embarked at 'C' had a higher chance of survival, about 55% of them survived while less than 40% of the passengers that embarked at 'S' and 'C' survived with 'S' having the lowest survival rate (note that very few passengers had their point of embarkment not recorded and they all survived). Below is a look at the survival rate of men and women with respect to where they embarked.\n",
    "\n"
   ]
  },
  {
   "cell_type": "code",
   "execution_count": 16,
   "id": "solved-monster",
   "metadata": {
    "execution": {
     "iopub.execute_input": "2021-06-20T16:36:47.467957Z",
     "iopub.status.busy": "2021-06-20T16:36:47.467277Z",
     "iopub.status.idle": "2021-06-20T16:36:47.997346Z",
     "shell.execute_reply": "2021-06-20T16:36:47.996800Z",
     "shell.execute_reply.started": "2021-06-20T16:35:37.551282Z"
    },
    "papermill": {
     "duration": 0.678487,
     "end_time": "2021-06-20T16:36:47.997545",
     "exception": false,
     "start_time": "2021-06-20T16:36:47.319058",
     "status": "completed"
    },
    "tags": []
   },
   "outputs": [
    {
     "data": {
      "text/plain": [
       "<AxesSubplot:xlabel='Embarked', ylabel='Survived'>"
      ]
     },
     "execution_count": 16,
     "metadata": {},
     "output_type": "execute_result"
    },
    {
     "data": {
      "image/png": "[encoded data removed]",
      "text/plain": [
       "<Figure size 1440x360 with 2 Axes>"
      ]
     },
     "metadata": {
      "needs_background": "light"
     },
     "output_type": "display_data"
    }
   ],
   "source": [
    "sns.set_palette('Paired')\n",
    "fig, axes = plt.subplots(1,2, figsize=(20,5))\n",
    "sns.countplot(ax=axes[0], data=df,x='Embarked', hue='Survived')\n",
    "sns.barplot(ax=axes[1],data=df, x= 'Embarked', y='Survived', hue='Sex')"
   ]
  },
  {
   "cell_type": "markdown",
   "id": "younger-island",
   "metadata": {
    "papermill": {
     "duration": 0.091057,
     "end_time": "2021-06-20T16:36:48.179181",
     "exception": false,
     "start_time": "2021-06-20T16:36:48.088124",
     "status": "completed"
    },
    "tags": []
   },
   "source": [
    "The plot above shows that more females that embarked from each category survived. Let's go ahead and check survival rate with respectc to a passengers class (Pclass). \n",
    "\n",
    "\n"
   ]
  },
  {
   "cell_type": "code",
   "execution_count": 17,
   "id": "lucky-mercury",
   "metadata": {
    "execution": {
     "iopub.execute_input": "2021-06-20T16:36:48.522647Z",
     "iopub.status.busy": "2021-06-20T16:36:48.478165Z",
     "iopub.status.idle": "2021-06-20T16:36:49.003380Z",
     "shell.execute_reply": "2021-06-20T16:36:49.002782Z",
     "shell.execute_reply.started": "2021-06-20T16:35:37.982381Z"
    },
    "papermill": {
     "duration": 0.73452,
     "end_time": "2021-06-20T16:36:49.003525",
     "exception": false,
     "start_time": "2021-06-20T16:36:48.269005",
     "status": "completed"
    },
    "tags": []
   },
   "outputs": [
    {
     "data": {
      "text/plain": [
       "<AxesSubplot:xlabel='Sex', ylabel='Survived'>"
      ]
     },
     "execution_count": 17,
     "metadata": {},
     "output_type": "execute_result"
    },
    {
     "data": {
      "image/png": "[encoded data removed]",
      "text/plain": [
       "<Figure size 1440x360 with 2 Axes>"
      ]
     },
     "metadata": {
      "needs_background": "light"
     },
     "output_type": "display_data"
    }
   ],
   "source": [
    "fig, axes = plt.subplots(1,2, figsize=(20,5))\n",
    "sns.countplot(ax=axes[0], data=df,x='Pclass')\n",
    "sns.barplot(ax=axes[1], data=df,x='Sex',y='Survived', hue=\"Pclass\")"
   ]
  },
  {
   "cell_type": "markdown",
   "id": "classical-fever",
   "metadata": {
    "papermill": {
     "duration": 0.093169,
     "end_time": "2021-06-20T16:36:49.189462",
     "exception": false,
     "start_time": "2021-06-20T16:36:49.096293",
     "status": "completed"
    },
    "tags": []
   },
   "source": [
    "From the plots it is evident that more passengers were in the passenger class '3' while the least amount of passengers were in class '2'. Conversly male and female passengers in passenger class '3' had the lowest chance of survival while those in class '1' had the highest chance of survival. UP next we would be checking the survival rate by age.\n"
   ]
  },
  {
   "cell_type": "markdown",
   "id": "agreed-initial",
   "metadata": {
    "papermill": {
     "duration": 0.090601,
     "end_time": "2021-06-20T16:36:49.371779",
     "exception": false,
     "start_time": "2021-06-20T16:36:49.281178",
     "status": "completed"
    },
    "tags": []
   },
   "source": [
    "Knowing we have iver 800 passengers, below is the age disribution of our passengers. Majority ofthe passengers fall within the ages of 15 to40 years.\n",
    "\n"
   ]
  },
  {
   "cell_type": "code",
   "execution_count": 18,
   "id": "durable-foundation",
   "metadata": {
    "execution": {
     "iopub.execute_input": "2021-06-20T16:36:49.590841Z",
     "iopub.status.busy": "2021-06-20T16:36:49.589663Z",
     "iopub.status.idle": "2021-06-20T16:36:49.778393Z",
     "shell.execute_reply": "2021-06-20T16:36:49.777759Z",
     "shell.execute_reply.started": "2021-06-20T16:35:38.386705Z"
    },
    "papermill": {
     "duration": 0.315652,
     "end_time": "2021-06-20T16:36:49.778536",
     "exception": false,
     "start_time": "2021-06-20T16:36:49.462884",
     "status": "completed"
    },
    "tags": []
   },
   "outputs": [
    {
     "data": {
      "text/plain": [
       "<AxesSubplot:xlabel='Age', ylabel='Count'>"
      ]
     },
     "execution_count": 18,
     "metadata": {},
     "output_type": "execute_result"
    },
    {
     "data": {
      "image/png": "[encoded data removed]",
      "text/plain": [
       "<Figure size 432x288 with 1 Axes>"
      ]
     },
     "metadata": {
      "needs_background": "light"
     },
     "output_type": "display_data"
    }
   ],
   "source": [
    "sns.histplot(data=df,x='Age')"
   ]
  },
  {
   "cell_type": "markdown",
   "id": "another-perth",
   "metadata": {
    "papermill": {
     "duration": 0.093865,
     "end_time": "2021-06-20T16:36:49.963911",
     "exception": false,
     "start_time": "2021-06-20T16:36:49.870046",
     "status": "completed"
    },
    "tags": []
   },
   "source": [
    "Let's have a look at how many unique (different) ages are distributed amongst the passengers. \n",
    "\n"
   ]
  },
  {
   "cell_type": "code",
   "execution_count": 19,
   "id": "southeast-harmony",
   "metadata": {
    "execution": {
     "iopub.execute_input": "2021-06-20T16:36:50.156947Z",
     "iopub.status.busy": "2021-06-20T16:36:50.156280Z",
     "iopub.status.idle": "2021-06-20T16:36:50.160174Z",
     "shell.execute_reply": "2021-06-20T16:36:50.159657Z",
     "shell.execute_reply.started": "2021-06-20T16:35:38.572014Z"
    },
    "papermill": {
     "duration": 0.102126,
     "end_time": "2021-06-20T16:36:50.160326",
     "exception": false,
     "start_time": "2021-06-20T16:36:50.058200",
     "status": "completed"
    },
    "tags": []
   },
   "outputs": [
    {
     "data": {
      "text/plain": [
       "71"
      ]
     },
     "execution_count": 19,
     "metadata": {},
     "output_type": "execute_result"
    }
   ],
   "source": [
    "df.Age.nunique()"
   ]
  },
  {
   "cell_type": "markdown",
   "id": "meaningful-premises",
   "metadata": {
    "papermill": {
     "duration": 0.092248,
     "end_time": "2021-06-20T16:36:50.346914",
     "exception": false,
     "start_time": "2021-06-20T16:36:50.254666",
     "status": "completed"
    },
    "tags": []
   },
   "source": [
    "If we are to plot the relationship between age and survival, we would have a cluttered graph due to a large number of different values for the fares. Hence we would be spltting the fares into fare groups in a new column. Now we create a column where we group the ages in groups of 10 and sort them for ease of plotting a clear graph showing the survival rate with respect to age and sex.\n",
    "\n",
    "\n"
   ]
  },
  {
   "cell_type": "code",
   "execution_count": 20,
   "id": "ranging-company",
   "metadata": {
    "execution": {
     "iopub.execute_input": "2021-06-20T16:36:50.556178Z",
     "iopub.status.busy": "2021-06-20T16:36:50.555218Z",
     "iopub.status.idle": "2021-06-20T16:36:51.608169Z",
     "shell.execute_reply": "2021-06-20T16:36:51.607103Z",
     "shell.execute_reply.started": "2021-06-20T16:35:38.580498Z"
    },
    "papermill": {
     "duration": 1.168312,
     "end_time": "2021-06-20T16:36:51.608331",
     "exception": false,
     "start_time": "2021-06-20T16:36:50.440019",
     "status": "completed"
    },
    "tags": []
   },
   "outputs": [
    {
     "data": {
      "text/plain": [
       "<AxesSubplot:xlabel='age_group', ylabel='Survived'>"
      ]
     },
     "execution_count": 20,
     "metadata": {},
     "output_type": "execute_result"
    },
    {
     "data": {
      "image/png": "[encoded data removed]",
      "text/plain": [
       "<Figure size 1440x360 with 2 Axes>"
      ]
     },
     "metadata": {
      "needs_background": "light"
     },
     "output_type": "display_data"
    }
   ],
   "source": [
    "Age_group=[]\n",
    "for c in df.Age:\n",
    "    if c<11:\n",
    "        Age_group.append(\"0-10\")\n",
    "    elif 10<c<21:\n",
    "        Age_group.append(\"11-20\")\n",
    "    elif 20<c<31:\n",
    "        Age_group.append(\"21-30\")\n",
    "    elif 30<c<41:\n",
    "        Age_group.append(\"31-40\")\n",
    "    elif 40<c<51:\n",
    "        Age_group.append(\"41-50\")\n",
    "    elif 50<c<61:\n",
    "        Age_group.append(\"51-60\")\n",
    "    elif 60<c<71:\n",
    "        Age_group.append(\"61-70\")\n",
    "    else:\n",
    "        Age_group.append(\"71-80\")      \n",
    " \n",
    "df['age_group']=Age_group\n",
    "\n",
    "\n",
    "fig, axes = plt.subplots(1,2, figsize=(20,5))\n",
    "sns.set_palette('Paired')\n",
    "df1=df.sort_values('Age', ascending=True)\n",
    "sns.countplot(ax=axes[0], data=df1,x='age_group', hue=\"Survived\")\n",
    "sns.barplot(ax=axes[1], x='age_group', hue='Sex', data=df1, y='Survived')"
   ]
  },
  {
   "cell_type": "markdown",
   "id": "original-hayes",
   "metadata": {
    "papermill": {
     "duration": 0.093494,
     "end_time": "2021-06-20T16:36:51.796019",
     "exception": false,
     "start_time": "2021-06-20T16:36:51.702525",
     "status": "completed"
    },
    "tags": []
   },
   "source": [
    "From the graph on the left we can see that most of the passengers that survived were within the age group of 21-30 years while those within 61-70 were the most few that survived. From the graph on the right, males with the ages of 0-10 years had almost the same chance of survival as the females in the same age group and that is the age group among males with the highest chance of survival. The graph below gives us a clearer view of the age group with the highest chance of survival within males and females.\n",
    "\n"
   ]
  },
  {
   "cell_type": "code",
   "execution_count": 21,
   "id": "editorial-connecticut",
   "metadata": {
    "execution": {
     "iopub.execute_input": "2021-06-20T16:36:51.989459Z",
     "iopub.status.busy": "2021-06-20T16:36:51.988771Z",
     "iopub.status.idle": "2021-06-20T16:36:52.791704Z",
     "shell.execute_reply": "2021-06-20T16:36:52.792156Z",
     "shell.execute_reply.started": "2021-06-20T16:35:39.339673Z"
    },
    "papermill": {
     "duration": 0.902951,
     "end_time": "2021-06-20T16:36:52.792335",
     "exception": false,
     "start_time": "2021-06-20T16:36:51.889384",
     "status": "completed"
    },
    "tags": []
   },
   "outputs": [
    {
     "data": {
      "text/plain": [
       "<AxesSubplot:xlabel='Sex', ylabel='Survived'>"
      ]
     },
     "execution_count": 21,
     "metadata": {},
     "output_type": "execute_result"
    },
    {
     "data": {
      "image/png": "[encoded data removed]",
      "text/plain": [
       "<Figure size 432x288 with 1 Axes>"
      ]
     },
     "metadata": {
      "needs_background": "light"
     },
     "output_type": "display_data"
    }
   ],
   "source": [
    "sns.barplot(data=df, x='Sex',hue='age_group',  y='Survived')"
   ]
  },
  {
   "cell_type": "markdown",
   "id": "athletic-union",
   "metadata": {
    "papermill": {
     "duration": 0.093653,
     "end_time": "2021-06-20T16:36:52.980465",
     "exception": false,
     "start_time": "2021-06-20T16:36:52.886812",
     "status": "completed"
    },
    "tags": []
   },
   "source": [
    "The graph below shows the rate of survival with respect to SibSp (sibling to parent ratio), passengers with 0 and 1 'SibSP' have the highest chance of survival while those with 6 and 8 have the lowest chance of survival (0 chance of survival)."
   ]
  },
  {
   "cell_type": "code",
   "execution_count": 22,
   "id": "integrated-raleigh",
   "metadata": {
    "execution": {
     "iopub.execute_input": "2021-06-20T16:36:53.178410Z",
     "iopub.status.busy": "2021-06-20T16:36:53.177776Z",
     "iopub.status.idle": "2021-06-20T16:36:53.558582Z",
     "shell.execute_reply": "2021-06-20T16:36:53.558078Z",
     "shell.execute_reply.started": "2021-06-20T16:35:39.919568Z"
    },
    "papermill": {
     "duration": 0.48141,
     "end_time": "2021-06-20T16:36:53.558723",
     "exception": false,
     "start_time": "2021-06-20T16:36:53.077313",
     "status": "completed"
    },
    "tags": []
   },
   "outputs": [
    {
     "data": {
      "text/plain": [
       "<AxesSubplot:xlabel='SibSp', ylabel='count'>"
      ]
     },
     "execution_count": 22,
     "metadata": {},
     "output_type": "execute_result"
    },
    {
     "data": {
      "image/png": "[encoded data removed]",
      "text/plain": [
       "<Figure size 1440x360 with 2 Axes>"
      ]
     },
     "metadata": {
      "needs_background": "light"
     },
     "output_type": "display_data"
    }
   ],
   "source": [
    "fig, axes = plt.subplots(1,2, figsize=(20,5))\n",
    "sns.countplot(ax=axes[0], data=df,x='SibSp')\n",
    "sns.countplot(data=df, x='SibSp', hue='Survived')#, dodge=False)"
   ]
  },
  {
   "cell_type": "raw",
   "id": "prime-sally",
   "metadata": {
    "papermill": {
     "duration": 0.096449,
     "end_time": "2021-06-20T16:36:53.750605",
     "exception": false,
     "start_time": "2021-06-20T16:36:53.654156",
     "status": "completed"
    },
    "tags": []
   },
   "source": [
    "looking at the survival rate with respect to 'Parch' (children parent ratio) we can see that most of the passengers had 0 'Parch' with 6 being the least. However Passengers with 'Parrch' of 2 had a 50% chance of survival, which is the highest chance of survival with regards to 'Parch'."
   ]
  },
  {
   "cell_type": "code",
   "execution_count": 23,
   "id": "offensive-broad",
   "metadata": {
    "execution": {
     "iopub.execute_input": "2021-06-20T16:36:53.974233Z",
     "iopub.status.busy": "2021-06-20T16:36:53.973167Z",
     "iopub.status.idle": "2021-06-20T16:36:54.320728Z",
     "shell.execute_reply": "2021-06-20T16:36:54.320162Z",
     "shell.execute_reply.started": "2021-06-20T16:35:40.249159Z"
    },
    "papermill": {
     "duration": 0.47355,
     "end_time": "2021-06-20T16:36:54.320890",
     "exception": false,
     "start_time": "2021-06-20T16:36:53.847340",
     "status": "completed"
    },
    "tags": []
   },
   "outputs": [
    {
     "data": {
      "text/plain": [
       "<AxesSubplot:xlabel='Parch', ylabel='count'>"
      ]
     },
     "execution_count": 23,
     "metadata": {},
     "output_type": "execute_result"
    },
    {
     "data": {
      "image/png": "[encoded data removed]",
      "text/plain": [
       "<Figure size 1440x360 with 2 Axes>"
      ]
     },
     "metadata": {
      "needs_background": "light"
     },
     "output_type": "display_data"
    }
   ],
   "source": [
    "fig, axes = plt.subplots(1,2, figsize=(20,5))\n",
    "sns.countplot(ax=axes[0], data=df,x='Parch')\n",
    "sns.countplot(data=df, x='Parch', hue='Survived')#, dodge=False)"
   ]
  },
  {
   "cell_type": "markdown",
   "id": "super-rocket",
   "metadata": {
    "papermill": {
     "duration": 0.097965,
     "end_time": "2021-06-20T16:36:54.517291",
     "exception": false,
     "start_time": "2021-06-20T16:36:54.419326",
     "status": "completed"
    },
    "tags": []
   },
   "source": [
    "Next is the 'Cabin', let's have a look at how many cabins we have below."
   ]
  },
  {
   "cell_type": "code",
   "execution_count": 24,
   "id": "atomic-possession",
   "metadata": {
    "execution": {
     "iopub.execute_input": "2021-06-20T16:36:54.718327Z",
     "iopub.status.busy": "2021-06-20T16:36:54.717659Z",
     "iopub.status.idle": "2021-06-20T16:36:54.722246Z",
     "shell.execute_reply": "2021-06-20T16:36:54.721747Z",
     "shell.execute_reply.started": "2021-06-20T16:35:40.555395Z"
    },
    "papermill": {
     "duration": 0.107954,
     "end_time": "2021-06-20T16:36:54.722404",
     "exception": false,
     "start_time": "2021-06-20T16:36:54.614450",
     "status": "completed"
    },
    "tags": []
   },
   "outputs": [
    {
     "data": {
      "text/plain": [
       "147"
      ]
     },
     "execution_count": 24,
     "metadata": {},
     "output_type": "execute_result"
    }
   ],
   "source": [
    "df.Cabin.nunique()"
   ]
  },
  {
   "cell_type": "markdown",
   "id": "reliable-community",
   "metadata": {
    "papermill": {
     "duration": 0.097787,
     "end_time": "2021-06-20T16:36:54.918029",
     "exception": false,
     "start_time": "2021-06-20T16:36:54.820242",
     "status": "completed"
    },
    "tags": []
   },
   "source": [
    "Making a countplot for the cabins is not the best ideas as seen below. The graph is not interpretable due to the large number of cabins, later on we would be doing some featyre engineering to get a better idea of the relationship between 'Cabin' and 'Survival'. "
   ]
  },
  {
   "cell_type": "code",
   "execution_count": 25,
   "id": "dental-commons",
   "metadata": {
    "execution": {
     "iopub.execute_input": "2021-06-20T16:36:55.122587Z",
     "iopub.status.busy": "2021-06-20T16:36:55.121678Z",
     "iopub.status.idle": "2021-06-20T16:36:57.924711Z",
     "shell.execute_reply": "2021-06-20T16:36:57.925184Z",
     "shell.execute_reply.started": "2021-06-20T16:35:40.563438Z"
    },
    "papermill": {
     "duration": 2.909789,
     "end_time": "2021-06-20T16:36:57.925410",
     "exception": false,
     "start_time": "2021-06-20T16:36:55.015621",
     "status": "completed"
    },
    "tags": []
   },
   "outputs": [
    {
     "data": {
      "text/plain": [
       "<AxesSubplot:xlabel='Cabin', ylabel='count'>"
      ]
     },
     "execution_count": 25,
     "metadata": {},
     "output_type": "execute_result"
    },
    {
     "data": {
      "image/png": "[encoded data removed]",
      "text/plain": [
       "<Figure size 432x288 with 1 Axes>"
      ]
     },
     "metadata": {
      "needs_background": "light"
     },
     "output_type": "display_data"
    }
   ],
   "source": [
    "plt.figsize=(50,10)\n",
    "sns.countplot(data=df, x='Cabin', hue='Survived', dodge=False)\n"
   ]
  },
  {
   "cell_type": "markdown",
   "id": "wooden-result",
   "metadata": {
    "papermill": {
     "duration": 0.100063,
     "end_time": "2021-06-20T16:36:58.126047",
     "exception": false,
     "start_time": "2021-06-20T16:36:58.025984",
     "status": "completed"
    },
    "tags": []
   },
   "source": [
    "If we are to plot the relationship between fares and survival, we qould have a similar graph to the one above due to a large number of different values for the fares. Hence we would be spltting the fares into fare groups in a new column."
   ]
  },
  {
   "cell_type": "code",
   "execution_count": 26,
   "id": "immune-governor",
   "metadata": {
    "execution": {
     "iopub.execute_input": "2021-06-20T16:36:58.326682Z",
     "iopub.status.busy": "2021-06-20T16:36:58.325887Z",
     "iopub.status.idle": "2021-06-20T16:36:58.341529Z",
     "shell.execute_reply": "2021-06-20T16:36:58.342080Z",
     "shell.execute_reply.started": "2021-06-20T16:35:42.830483Z"
    },
    "papermill": {
     "duration": 0.117501,
     "end_time": "2021-06-20T16:36:58.342344",
     "exception": false,
     "start_time": "2021-06-20T16:36:58.224843",
     "status": "completed"
    },
    "tags": []
   },
   "outputs": [
    {
     "data": {
      "text/plain": [
       "0-10       364\n",
       "11-20      160\n",
       "21-30      142\n",
       "50-100     106\n",
       "31-40       50\n",
       "101-200     33\n",
       "201-300     17\n",
       "41-50       16\n",
       "501-550      3\n",
       "Name: Fare_group, dtype: int64"
      ]
     },
     "execution_count": 26,
     "metadata": {},
     "output_type": "execute_result"
    }
   ],
   "source": [
    "fare_group=[]\n",
    "for c in df.Fare:\n",
    "    if c<11:\n",
    "        fare_group.append(\"0-10\")\n",
    "    elif 10<c<21:\n",
    "        fare_group.append(\"11-20\")\n",
    "    elif 20<c<31:\n",
    "        fare_group.append(\"21-30\")\n",
    "    elif 30<c<41:\n",
    "        fare_group.append(\"31-40\")\n",
    "    elif 40<c<51:\n",
    "        fare_group.append(\"41-50\")\n",
    "    elif 50<c<101:\n",
    "        fare_group.append(\"50-100\")\n",
    "    elif 100<c<201:\n",
    "        fare_group.append(\"101-200\")\n",
    "    elif 200<c<301:\n",
    "        fare_group.append(\"201-300\")\n",
    "    elif 300<c<401:\n",
    "        fare_group.append(\"301-400\")\n",
    "    elif 400<c<501:\n",
    "        fare_group.append(\"401-500\")\n",
    "    else:\n",
    "        fare_group.append(\"501-550\")      \n",
    " \n",
    "df['Fare_group']=fare_group\n",
    "df['Fare_group'].value_counts()"
   ]
  },
  {
   "cell_type": "markdown",
   "id": "experimental-sheet",
   "metadata": {
    "papermill": {
     "duration": 0.098208,
     "end_time": "2021-06-20T16:36:58.541736",
     "exception": false,
     "start_time": "2021-06-20T16:36:58.443528",
     "status": "completed"
    },
    "tags": []
   },
   "source": [
    "The output cell above shows the count for each fare group, now we can go ahead and sort the fare_group column then plot graphs using the fare_group colums"
   ]
  },
  {
   "cell_type": "code",
   "execution_count": 27,
   "id": "pacific-bicycle",
   "metadata": {
    "execution": {
     "iopub.execute_input": "2021-06-20T16:36:58.744974Z",
     "iopub.status.busy": "2021-06-20T16:36:58.744227Z",
     "iopub.status.idle": "2021-06-20T16:36:59.880298Z",
     "shell.execute_reply": "2021-06-20T16:36:59.879767Z",
     "shell.execute_reply.started": "2021-06-20T16:35:42.847019Z"
    },
    "papermill": {
     "duration": 1.24071,
     "end_time": "2021-06-20T16:36:59.880462",
     "exception": false,
     "start_time": "2021-06-20T16:36:58.639752",
     "status": "completed"
    },
    "tags": []
   },
   "outputs": [
    {
     "data": {
      "text/plain": [
       "<AxesSubplot:xlabel='Fare_group', ylabel='count'>"
      ]
     },
     "execution_count": 27,
     "metadata": {},
     "output_type": "execute_result"
    },
    {
     "data": {
      "image/png": "[encoded data removed]",
      "text/plain": [
       "<Figure size 1440x360 with 2 Axes>"
      ]
     },
     "metadata": {
      "needs_background": "light"
     },
     "output_type": "display_data"
    }
   ],
   "source": [
    "df2=df.sort_values('Fare', ascending=True)\n",
    "fig, axes = plt.subplots(1,2, figsize=(20,5))\n",
    "sns.barplot(ax=axes[1], x='Fare_group', hue='Sex', data=df2, y='Survived')\n",
    "sns.countplot(ax=axes[0],data=df2, x='Fare_group', hue='Survived')\n"
   ]
  },
  {
   "cell_type": "markdown",
   "id": "outer-quest",
   "metadata": {
    "papermill": {
     "duration": 0.101082,
     "end_time": "2021-06-20T16:37:00.083185",
     "exception": false,
     "start_time": "2021-06-20T16:36:59.982103",
     "status": "completed"
    },
    "tags": []
   },
   "source": [
    "From the graphs above, there were more passengers who paid between 0$ to 10$ and females had a higher survival rate in each fare group apart from those that paid 501$ to 550$ where everyone survived."
   ]
  },
  {
   "cell_type": "markdown",
   "id": "secure-survey",
   "metadata": {
    "papermill": {
     "duration": 0.098972,
     "end_time": "2021-06-20T16:37:00.282156",
     "exception": false,
     "start_time": "2021-06-20T16:37:00.183184",
     "status": "completed"
    },
    "tags": []
   },
   "source": [
    "# **FEATURE ENGINEERING**"
   ]
  },
  {
   "cell_type": "markdown",
   "id": "creative-haven",
   "metadata": {
    "papermill": {
     "duration": 0.098862,
     "end_time": "2021-06-20T16:37:00.480193",
     "exception": false,
     "start_time": "2021-06-20T16:37:00.381331",
     "status": "completed"
    },
    "tags": []
   },
   "source": [
    "In this section we would be trying to develop some features (columns) from the existing features (columns)."
   ]
  },
  {
   "cell_type": "markdown",
   "id": "integral-guess",
   "metadata": {
    "papermill": {
     "duration": 0.101419,
     "end_time": "2021-06-20T16:37:00.684777",
     "exception": false,
     "start_time": "2021-06-20T16:37:00.583358",
     "status": "completed"
    },
    "tags": []
   },
   "source": [
    "Starting with the 'Cabin' column where we have a lot of missing values we can take the first letter of each cabin number and use that as a cabin class/group, while the 'nan' values are taken as a seperate group thereby leaving us with no missing values."
   ]
  },
  {
   "cell_type": "code",
   "execution_count": 28,
   "id": "raising-administration",
   "metadata": {
    "execution": {
     "iopub.execute_input": "2021-06-20T16:37:00.908528Z",
     "iopub.status.busy": "2021-06-20T16:37:00.907852Z",
     "iopub.status.idle": "2021-06-20T16:37:01.602493Z",
     "shell.execute_reply": "2021-06-20T16:37:01.601573Z",
     "shell.execute_reply.started": "2021-06-20T16:35:43.946811Z"
    },
    "papermill": {
     "duration": 0.818537,
     "end_time": "2021-06-20T16:37:01.602685",
     "exception": false,
     "start_time": "2021-06-20T16:37:00.784148",
     "status": "completed"
    },
    "tags": []
   },
   "outputs": [
    {
     "data": {
      "text/plain": [
       "<AxesSubplot:xlabel='cabin_adv', ylabel='count'>"
      ]
     },
     "execution_count": 28,
     "metadata": {},
     "output_type": "execute_result"
    },
    {
     "data": {
      "image/png": "[encoded data removed]",
      "text/plain": [
       "<Figure size 1440x360 with 2 Axes>"
      ]
     },
     "metadata": {
      "needs_background": "light"
     },
     "output_type": "display_data"
    }
   ],
   "source": [
    "df['cabin_adv'] = df.Cabin.apply(lambda x: str(x)[0]) # we use the 'str' method to strip the cabin number abd take only the first character.\n",
    "fig, axes = plt.subplots(1,2, figsize=(20,5))\n",
    "sns.barplot(ax=axes[1], x='cabin_adv', data=df, y='Survived')\n",
    "sns.countplot(ax=axes[0],data=df, x='cabin_adv', hue='Survived')#, dodge=False)\n",
    "\n"
   ]
  },
  {
   "cell_type": "markdown",
   "id": "first-playing",
   "metadata": {
    "papermill": {
     "duration": 0.100176,
     "end_time": "2021-06-20T16:37:01.812532",
     "exception": false,
     "start_time": "2021-06-20T16:37:01.712356",
     "status": "completed"
    },
    "tags": []
   },
   "source": [
    "We can also extract the title of each passenger from their names and create a seperate column for than. Let have a look at how the names are arraned first."
   ]
  },
  {
   "cell_type": "code",
   "execution_count": 29,
   "id": "caroline-singing",
   "metadata": {
    "execution": {
     "iopub.execute_input": "2021-06-20T16:37:02.036718Z",
     "iopub.status.busy": "2021-06-20T16:37:02.036014Z",
     "iopub.status.idle": "2021-06-20T16:37:02.040518Z",
     "shell.execute_reply": "2021-06-20T16:37:02.041010Z",
     "shell.execute_reply.started": "2021-06-20T16:35:44.503093Z"
    },
    "papermill": {
     "duration": 0.127758,
     "end_time": "2021-06-20T16:37:02.041200",
     "exception": false,
     "start_time": "2021-06-20T16:37:01.913442",
     "status": "completed"
    },
    "tags": []
   },
   "outputs": [
    {
     "data": {
      "text/html": [
       "<div>\n",
       "<style scoped>\n",
       "    .dataframe tbody tr th:only-of-type {\n",
       "        vertical-align: middle;\n",
       "    }\n",
       "\n",
       "    .dataframe tbody tr th {\n",
       "        vertical-align: top;\n",
       "    }\n",
       "\n",
       "    .dataframe thead th {\n",
       "        text-align: right;\n",
       "    }\n",
       "</style>\n",
       "<table border=\"1\" class=\"dataframe\">\n",
       "  <thead>\n",
       "    <tr style=\"text-align: right;\">\n",
       "      <th></th>\n",
       "      <th>PassengerId</th>\n",
       "      <th>Survived</th>\n",
       "      <th>Pclass</th>\n",
       "      <th>Name</th>\n",
       "      <th>Sex</th>\n",
       "      <th>Age</th>\n",
       "      <th>SibSp</th>\n",
       "      <th>Parch</th>\n",
       "      <th>Ticket</th>\n",
       "      <th>Fare</th>\n",
       "      <th>Cabin</th>\n",
       "      <th>Embarked</th>\n",
       "      <th>age_group</th>\n",
       "      <th>Fare_group</th>\n",
       "      <th>cabin_adv</th>\n",
       "    </tr>\n",
       "  </thead>\n",
       "  <tbody>\n",
       "    <tr>\n",
       "      <th>0</th>\n",
       "      <td>1</td>\n",
       "      <td>0</td>\n",
       "      <td>3</td>\n",
       "      <td>Braund, Mr. Owen Harris</td>\n",
       "      <td>male</td>\n",
       "      <td>22</td>\n",
       "      <td>1</td>\n",
       "      <td>0</td>\n",
       "      <td>A/5 21171</td>\n",
       "      <td>7.2500</td>\n",
       "      <td>NaN</td>\n",
       "      <td>S</td>\n",
       "      <td>21-30</td>\n",
       "      <td>0-10</td>\n",
       "      <td>n</td>\n",
       "    </tr>\n",
       "    <tr>\n",
       "      <th>1</th>\n",
       "      <td>2</td>\n",
       "      <td>1</td>\n",
       "      <td>1</td>\n",
       "      <td>Cumings, Mrs. John Bradley (Florence Briggs Th...</td>\n",
       "      <td>female</td>\n",
       "      <td>38</td>\n",
       "      <td>1</td>\n",
       "      <td>0</td>\n",
       "      <td>PC 17599</td>\n",
       "      <td>71.2833</td>\n",
       "      <td>C85</td>\n",
       "      <td>C</td>\n",
       "      <td>31-40</td>\n",
       "      <td>50-100</td>\n",
       "      <td>C</td>\n",
       "    </tr>\n",
       "    <tr>\n",
       "      <th>2</th>\n",
       "      <td>3</td>\n",
       "      <td>1</td>\n",
       "      <td>3</td>\n",
       "      <td>Heikkinen, Miss. Laina</td>\n",
       "      <td>female</td>\n",
       "      <td>26</td>\n",
       "      <td>0</td>\n",
       "      <td>0</td>\n",
       "      <td>STON/O2. 3101282</td>\n",
       "      <td>7.9250</td>\n",
       "      <td>NaN</td>\n",
       "      <td>S</td>\n",
       "      <td>21-30</td>\n",
       "      <td>0-10</td>\n",
       "      <td>n</td>\n",
       "    </tr>\n",
       "    <tr>\n",
       "      <th>3</th>\n",
       "      <td>4</td>\n",
       "      <td>1</td>\n",
       "      <td>1</td>\n",
       "      <td>Futrelle, Mrs. Jacques Heath (Lily May Peel)</td>\n",
       "      <td>female</td>\n",
       "      <td>35</td>\n",
       "      <td>1</td>\n",
       "      <td>0</td>\n",
       "      <td>113803</td>\n",
       "      <td>53.1000</td>\n",
       "      <td>C123</td>\n",
       "      <td>S</td>\n",
       "      <td>31-40</td>\n",
       "      <td>50-100</td>\n",
       "      <td>C</td>\n",
       "    </tr>\n",
       "    <tr>\n",
       "      <th>4</th>\n",
       "      <td>5</td>\n",
       "      <td>0</td>\n",
       "      <td>3</td>\n",
       "      <td>Allen, Mr. William Henry</td>\n",
       "      <td>male</td>\n",
       "      <td>35</td>\n",
       "      <td>0</td>\n",
       "      <td>0</td>\n",
       "      <td>373450</td>\n",
       "      <td>8.0500</td>\n",
       "      <td>NaN</td>\n",
       "      <td>S</td>\n",
       "      <td>31-40</td>\n",
       "      <td>0-10</td>\n",
       "      <td>n</td>\n",
       "    </tr>\n",
       "    <tr>\n",
       "      <th>5</th>\n",
       "      <td>6</td>\n",
       "      <td>0</td>\n",
       "      <td>3</td>\n",
       "      <td>Moran, Mr. James</td>\n",
       "      <td>male</td>\n",
       "      <td>17</td>\n",
       "      <td>0</td>\n",
       "      <td>0</td>\n",
       "      <td>330877</td>\n",
       "      <td>8.4583</td>\n",
       "      <td>NaN</td>\n",
       "      <td>Q</td>\n",
       "      <td>11-20</td>\n",
       "      <td>0-10</td>\n",
       "      <td>n</td>\n",
       "    </tr>\n",
       "    <tr>\n",
       "      <th>6</th>\n",
       "      <td>7</td>\n",
       "      <td>0</td>\n",
       "      <td>1</td>\n",
       "      <td>McCarthy, Mr. Timothy J</td>\n",
       "      <td>male</td>\n",
       "      <td>54</td>\n",
       "      <td>0</td>\n",
       "      <td>0</td>\n",
       "      <td>17463</td>\n",
       "      <td>51.8625</td>\n",
       "      <td>E46</td>\n",
       "      <td>S</td>\n",
       "      <td>51-60</td>\n",
       "      <td>50-100</td>\n",
       "      <td>E</td>\n",
       "    </tr>\n",
       "    <tr>\n",
       "      <th>7</th>\n",
       "      <td>8</td>\n",
       "      <td>0</td>\n",
       "      <td>3</td>\n",
       "      <td>Palsson, Master. Gosta Leonard</td>\n",
       "      <td>male</td>\n",
       "      <td>2</td>\n",
       "      <td>3</td>\n",
       "      <td>1</td>\n",
       "      <td>349909</td>\n",
       "      <td>21.0750</td>\n",
       "      <td>NaN</td>\n",
       "      <td>S</td>\n",
       "      <td>0-10</td>\n",
       "      <td>21-30</td>\n",
       "      <td>n</td>\n",
       "    </tr>\n",
       "    <tr>\n",
       "      <th>8</th>\n",
       "      <td>9</td>\n",
       "      <td>1</td>\n",
       "      <td>3</td>\n",
       "      <td>Johnson, Mrs. Oscar W (Elisabeth Vilhelmina Berg)</td>\n",
       "      <td>female</td>\n",
       "      <td>27</td>\n",
       "      <td>0</td>\n",
       "      <td>2</td>\n",
       "      <td>347742</td>\n",
       "      <td>11.1333</td>\n",
       "      <td>NaN</td>\n",
       "      <td>S</td>\n",
       "      <td>21-30</td>\n",
       "      <td>11-20</td>\n",
       "      <td>n</td>\n",
       "    </tr>\n",
       "    <tr>\n",
       "      <th>9</th>\n",
       "      <td>10</td>\n",
       "      <td>1</td>\n",
       "      <td>2</td>\n",
       "      <td>Nasser, Mrs. Nicholas (Adele Achem)</td>\n",
       "      <td>female</td>\n",
       "      <td>14</td>\n",
       "      <td>1</td>\n",
       "      <td>0</td>\n",
       "      <td>237736</td>\n",
       "      <td>30.0708</td>\n",
       "      <td>NaN</td>\n",
       "      <td>C</td>\n",
       "      <td>11-20</td>\n",
       "      <td>21-30</td>\n",
       "      <td>n</td>\n",
       "    </tr>\n",
       "  </tbody>\n",
       "</table>\n",
       "</div>"
      ],
      "text/plain": [
       "   PassengerId  Survived  Pclass  \\\n",
       "0            1         0       3   \n",
       "1            2         1       1   \n",
       "2            3         1       3   \n",
       "3            4         1       1   \n",
       "4            5         0       3   \n",
       "5            6         0       3   \n",
       "6            7         0       1   \n",
       "7            8         0       3   \n",
       "8            9         1       3   \n",
       "9           10         1       2   \n",
       "\n",
       "                                                Name     Sex  Age  SibSp  \\\n",
       "0                            Braund, Mr. Owen Harris    male   22      1   \n",
       "1  Cumings, Mrs. John Bradley (Florence Briggs Th...  female   38      1   \n",
       "2                             Heikkinen, Miss. Laina  female   26      0   \n",
       "3       Futrelle, Mrs. Jacques Heath (Lily May Peel)  female   35      1   \n",
       "4                           Allen, Mr. William Henry    male   35      0   \n",
       "5                                   Moran, Mr. James    male   17      0   \n",
       "6                            McCarthy, Mr. Timothy J    male   54      0   \n",
       "7                     Palsson, Master. Gosta Leonard    male    2      3   \n",
       "8  Johnson, Mrs. Oscar W (Elisabeth Vilhelmina Berg)  female   27      0   \n",
       "9                Nasser, Mrs. Nicholas (Adele Achem)  female   14      1   \n",
       "\n",
       "   Parch            Ticket     Fare Cabin Embarked age_group Fare_group  \\\n",
       "0      0         A/5 21171   7.2500   NaN        S     21-30       0-10   \n",
       "1      0          PC 17599  71.2833   C85        C     31-40     50-100   \n",
       "2      0  STON/O2. 3101282   7.9250   NaN        S     21-30       0-10   \n",
       "3      0            113803  53.1000  C123        S     31-40     50-100   \n",
       "4      0            373450   8.0500   NaN        S     31-40       0-10   \n",
       "5      0            330877   8.4583   NaN        Q     11-20       0-10   \n",
       "6      0             17463  51.8625   E46        S     51-60     50-100   \n",
       "7      1            349909  21.0750   NaN        S      0-10      21-30   \n",
       "8      2            347742  11.1333   NaN        S     21-30      11-20   \n",
       "9      0            237736  30.0708   NaN        C     11-20      21-30   \n",
       "\n",
       "  cabin_adv  \n",
       "0         n  \n",
       "1         C  \n",
       "2         n  \n",
       "3         C  \n",
       "4         n  \n",
       "5         n  \n",
       "6         E  \n",
       "7         n  \n",
       "8         n  \n",
       "9         n  "
      ]
     },
     "execution_count": 29,
     "metadata": {},
     "output_type": "execute_result"
    }
   ],
   "source": [
    "df.head(10)"
   ]
  },
  {
   "cell_type": "markdown",
   "id": "gross-worcester",
   "metadata": {
    "papermill": {
     "duration": 0.101543,
     "end_time": "2021-06-20T16:37:02.252699",
     "exception": false,
     "start_time": "2021-06-20T16:37:02.151156",
     "status": "completed"
    },
    "tags": []
   },
   "source": [
    "The names are in the format of Name/Tittle/Other Names. Hence we split the names at the 'comma' after the name at the first position and pick the tittle, then we split the tittle of the 'full stop' at its end and take the tittle alon as in the first line of the cell below."
   ]
  },
  {
   "cell_type": "markdown",
   "id": "beneficial-struggle",
   "metadata": {
    "papermill": {
     "duration": 0.100324,
     "end_time": "2021-06-20T16:37:02.453804",
     "exception": false,
     "start_time": "2021-06-20T16:37:02.353480",
     "status": "completed"
    },
    "tags": []
   },
   "source": [
    "Let's have a table showing the tittle and their survival. (nan represents 0)"
   ]
  },
  {
   "cell_type": "code",
   "execution_count": 30,
   "id": "silent-theta",
   "metadata": {
    "execution": {
     "iopub.execute_input": "2021-06-20T16:37:02.659536Z",
     "iopub.status.busy": "2021-06-20T16:37:02.658903Z",
     "iopub.status.idle": "2021-06-20T16:37:02.703474Z",
     "shell.execute_reply": "2021-06-20T16:37:02.702899Z",
     "shell.execute_reply.started": "2021-06-20T16:35:44.522031Z"
    },
    "papermill": {
     "duration": 0.148679,
     "end_time": "2021-06-20T16:37:02.703628",
     "exception": false,
     "start_time": "2021-06-20T16:37:02.554949",
     "status": "completed"
    },
    "tags": []
   },
   "outputs": [
    {
     "data": {
      "text/html": [
       "<div>\n",
       "<style scoped>\n",
       "    .dataframe tbody tr th:only-of-type {\n",
       "        vertical-align: middle;\n",
       "    }\n",
       "\n",
       "    .dataframe tbody tr th {\n",
       "        vertical-align: top;\n",
       "    }\n",
       "\n",
       "    .dataframe thead th {\n",
       "        text-align: right;\n",
       "    }\n",
       "</style>\n",
       "<table border=\"1\" class=\"dataframe\">\n",
       "  <thead>\n",
       "    <tr style=\"text-align: right;\">\n",
       "      <th>tittle</th>\n",
       "      <th>Capt</th>\n",
       "      <th>Col</th>\n",
       "      <th>Don</th>\n",
       "      <th>Dr</th>\n",
       "      <th>Jonkheer</th>\n",
       "      <th>Lady</th>\n",
       "      <th>Major</th>\n",
       "      <th>Master</th>\n",
       "      <th>Miss</th>\n",
       "      <th>Mlle</th>\n",
       "      <th>Mme</th>\n",
       "      <th>Mr</th>\n",
       "      <th>Mrs</th>\n",
       "      <th>Ms</th>\n",
       "      <th>Rev</th>\n",
       "      <th>Sir</th>\n",
       "      <th>the Countess</th>\n",
       "    </tr>\n",
       "    <tr>\n",
       "      <th>Survived</th>\n",
       "      <th></th>\n",
       "      <th></th>\n",
       "      <th></th>\n",
       "      <th></th>\n",
       "      <th></th>\n",
       "      <th></th>\n",
       "      <th></th>\n",
       "      <th></th>\n",
       "      <th></th>\n",
       "      <th></th>\n",
       "      <th></th>\n",
       "      <th></th>\n",
       "      <th></th>\n",
       "      <th></th>\n",
       "      <th></th>\n",
       "      <th></th>\n",
       "      <th></th>\n",
       "    </tr>\n",
       "  </thead>\n",
       "  <tbody>\n",
       "    <tr>\n",
       "      <th>0</th>\n",
       "      <td>1.0</td>\n",
       "      <td>1.0</td>\n",
       "      <td>1.0</td>\n",
       "      <td>4.0</td>\n",
       "      <td>1.0</td>\n",
       "      <td>NaN</td>\n",
       "      <td>1.0</td>\n",
       "      <td>17.0</td>\n",
       "      <td>55.0</td>\n",
       "      <td>NaN</td>\n",
       "      <td>NaN</td>\n",
       "      <td>436.0</td>\n",
       "      <td>26.0</td>\n",
       "      <td>NaN</td>\n",
       "      <td>6.0</td>\n",
       "      <td>NaN</td>\n",
       "      <td>NaN</td>\n",
       "    </tr>\n",
       "    <tr>\n",
       "      <th>1</th>\n",
       "      <td>NaN</td>\n",
       "      <td>1.0</td>\n",
       "      <td>NaN</td>\n",
       "      <td>3.0</td>\n",
       "      <td>NaN</td>\n",
       "      <td>1.0</td>\n",
       "      <td>1.0</td>\n",
       "      <td>23.0</td>\n",
       "      <td>127.0</td>\n",
       "      <td>2.0</td>\n",
       "      <td>1.0</td>\n",
       "      <td>81.0</td>\n",
       "      <td>99.0</td>\n",
       "      <td>1.0</td>\n",
       "      <td>NaN</td>\n",
       "      <td>1.0</td>\n",
       "      <td>1.0</td>\n",
       "    </tr>\n",
       "  </tbody>\n",
       "</table>\n",
       "</div>"
      ],
      "text/plain": [
       "tittle    Capt  Col  Don   Dr  Jonkheer  Lady  Major  Master   Miss  Mlle  \\\n",
       "Survived                                                                    \n",
       "0          1.0  1.0  1.0  4.0       1.0   NaN    1.0    17.0   55.0   NaN   \n",
       "1          NaN  1.0  NaN  3.0       NaN   1.0    1.0    23.0  127.0   2.0   \n",
       "\n",
       "tittle    Mme     Mr   Mrs   Ms  Rev  Sir  the Countess  \n",
       "Survived                                                 \n",
       "0         NaN  436.0  26.0  NaN  6.0  NaN           NaN  \n",
       "1         1.0   81.0  99.0  1.0  NaN  1.0           1.0  "
      ]
     },
     "execution_count": 30,
     "metadata": {},
     "output_type": "execute_result"
    }
   ],
   "source": [
    "df['tittle'] = df.Name.apply(lambda x: x.split(',')[1].split('.')[0].strip())\n",
    "pd.pivot_table(df,index='Survived',columns='tittle', values = 'Ticket', aggfunc='count')"
   ]
  },
  {
   "cell_type": "markdown",
   "id": "likely-madness",
   "metadata": {
    "papermill": {
     "duration": 0.101077,
     "end_time": "2021-06-20T16:37:02.906664",
     "exception": false,
     "start_time": "2021-06-20T16:37:02.805587",
     "status": "completed"
    },
    "tags": []
   },
   "source": [
    "Cheching for null values in our dataset we can see that there are no null values excpt in the 'Cabin' column."
   ]
  },
  {
   "cell_type": "code",
   "execution_count": 31,
   "id": "usual-suggestion",
   "metadata": {
    "execution": {
     "iopub.execute_input": "2021-06-20T16:37:03.116333Z",
     "iopub.status.busy": "2021-06-20T16:37:03.115688Z",
     "iopub.status.idle": "2021-06-20T16:37:03.123847Z",
     "shell.execute_reply": "2021-06-20T16:37:03.124297Z",
     "shell.execute_reply.started": "2021-06-20T16:35:44.564915Z"
    },
    "papermill": {
     "duration": 0.114144,
     "end_time": "2021-06-20T16:37:03.124497",
     "exception": false,
     "start_time": "2021-06-20T16:37:03.010353",
     "status": "completed"
    },
    "tags": []
   },
   "outputs": [
    {
     "data": {
      "text/plain": [
       "PassengerId      0\n",
       "Survived         0\n",
       "Pclass           0\n",
       "Name             0\n",
       "Sex              0\n",
       "Age              0\n",
       "SibSp            0\n",
       "Parch            0\n",
       "Ticket           0\n",
       "Fare             0\n",
       "Cabin          687\n",
       "Embarked         0\n",
       "age_group        0\n",
       "Fare_group       0\n",
       "cabin_adv        0\n",
       "tittle           0\n",
       "dtype: int64"
      ]
     },
     "execution_count": 31,
     "metadata": {},
     "output_type": "execute_result"
    }
   ],
   "source": [
    "df.isnull().sum()"
   ]
  },
  {
   "cell_type": "markdown",
   "id": "steady-chaos",
   "metadata": {
    "papermill": {
     "duration": 0.101964,
     "end_time": "2021-06-20T16:37:03.330246",
     "exception": false,
     "start_time": "2021-06-20T16:37:03.228282",
     "status": "completed"
    },
    "tags": []
   },
   "source": [
    "# **MODEL PREPROCESSING**"
   ]
  },
  {
   "cell_type": "markdown",
   "id": "raising-lawrence",
   "metadata": {
    "papermill": {
     "duration": 0.101921,
     "end_time": "2021-06-20T16:37:03.533970",
     "exception": false,
     "start_time": "2021-06-20T16:37:03.432049",
     "status": "completed"
    },
    "tags": []
   },
   "source": [
    "SPlitting our data set into dependent and independent variables while exluding Passenger Id and Names we have."
   ]
  },
  {
   "cell_type": "code",
   "execution_count": 32,
   "id": "bronze-airfare",
   "metadata": {
    "execution": {
     "iopub.execute_input": "2021-06-20T16:37:03.741315Z",
     "iopub.status.busy": "2021-06-20T16:37:03.740488Z",
     "iopub.status.idle": "2021-06-20T16:37:03.745984Z",
     "shell.execute_reply": "2021-06-20T16:37:03.746442Z",
     "shell.execute_reply.started": "2021-06-20T16:35:44.575796Z"
    },
    "papermill": {
     "duration": 0.110977,
     "end_time": "2021-06-20T16:37:03.746617",
     "exception": false,
     "start_time": "2021-06-20T16:37:03.635640",
     "status": "completed"
    },
    "tags": []
   },
   "outputs": [],
   "source": [
    "features=[ 'Pclass','Sex','Age', 'age_group', 'SibSp',\n",
    "       'Parch', 'Embarked','Fare','Fare_group', 'cabin_adv', 'tittle']\n",
    "y=df.Survived\n",
    "train_data=df[features]"
   ]
  },
  {
   "cell_type": "code",
   "execution_count": 33,
   "id": "sensitive-entry",
   "metadata": {
    "execution": {
     "iopub.execute_input": "2021-06-20T16:37:03.958002Z",
     "iopub.status.busy": "2021-06-20T16:37:03.957060Z",
     "iopub.status.idle": "2021-06-20T16:37:03.961268Z",
     "shell.execute_reply": "2021-06-20T16:37:03.960778Z",
     "shell.execute_reply.started": "2021-06-20T16:35:44.596899Z"
    },
    "papermill": {
     "duration": 0.111559,
     "end_time": "2021-06-20T16:37:03.961434",
     "exception": false,
     "start_time": "2021-06-20T16:37:03.849875",
     "status": "completed"
    },
    "tags": []
   },
   "outputs": [
    {
     "data": {
      "text/plain": [
       "Index(['Pclass', 'Sex', 'Age', 'age_group', 'SibSp', 'Parch', 'Embarked',\n",
       "       'Fare', 'Fare_group', 'cabin_adv', 'tittle'],\n",
       "      dtype='object')"
      ]
     },
     "execution_count": 33,
     "metadata": {},
     "output_type": "execute_result"
    }
   ],
   "source": [
    "train_data.columns"
   ]
  },
  {
   "cell_type": "markdown",
   "id": "after-enterprise",
   "metadata": {
    "papermill": {
     "duration": 0.102375,
     "end_time": "2021-06-20T16:37:04.169670",
     "exception": false,
     "start_time": "2021-06-20T16:37:04.067295",
     "status": "completed"
    },
    "tags": []
   },
   "source": [
    "we would be training our model using two types of our training set, one which makes used of the age_group and fare_group columns and another which makes use of the Age and Fare column when normalized. For that we would we would be making usse of 'train_data' with 'Age' and 'Fare' columns dropped and 'Train' with 'Age' and 'Fare' column which we would normalize soon."
   ]
  },
  {
   "cell_type": "code",
   "execution_count": 34,
   "id": "emotional-innocent",
   "metadata": {
    "execution": {
     "iopub.execute_input": "2021-06-20T16:37:04.380413Z",
     "iopub.status.busy": "2021-06-20T16:37:04.379451Z",
     "iopub.status.idle": "2021-06-20T16:37:04.401525Z",
     "shell.execute_reply": "2021-06-20T16:37:04.401960Z",
     "shell.execute_reply.started": "2021-06-20T16:35:44.615290Z"
    },
    "papermill": {
     "duration": 0.128421,
     "end_time": "2021-06-20T16:37:04.402132",
     "exception": false,
     "start_time": "2021-06-20T16:37:04.273711",
     "status": "completed"
    },
    "tags": []
   },
   "outputs": [
    {
     "data": {
      "text/html": [
       "<div>\n",
       "<style scoped>\n",
       "    .dataframe tbody tr th:only-of-type {\n",
       "        vertical-align: middle;\n",
       "    }\n",
       "\n",
       "    .dataframe tbody tr th {\n",
       "        vertical-align: top;\n",
       "    }\n",
       "\n",
       "    .dataframe thead th {\n",
       "        text-align: right;\n",
       "    }\n",
       "</style>\n",
       "<table border=\"1\" class=\"dataframe\">\n",
       "  <thead>\n",
       "    <tr style=\"text-align: right;\">\n",
       "      <th></th>\n",
       "      <th>Pclass</th>\n",
       "      <th>Sex</th>\n",
       "      <th>age_group</th>\n",
       "      <th>SibSp</th>\n",
       "      <th>Parch</th>\n",
       "      <th>Embarked</th>\n",
       "      <th>Fare_group</th>\n",
       "      <th>cabin_adv</th>\n",
       "      <th>tittle</th>\n",
       "    </tr>\n",
       "  </thead>\n",
       "  <tbody>\n",
       "    <tr>\n",
       "      <th>0</th>\n",
       "      <td>3</td>\n",
       "      <td>male</td>\n",
       "      <td>21-30</td>\n",
       "      <td>1</td>\n",
       "      <td>0</td>\n",
       "      <td>S</td>\n",
       "      <td>0-10</td>\n",
       "      <td>n</td>\n",
       "      <td>Mr</td>\n",
       "    </tr>\n",
       "    <tr>\n",
       "      <th>1</th>\n",
       "      <td>1</td>\n",
       "      <td>female</td>\n",
       "      <td>31-40</td>\n",
       "      <td>1</td>\n",
       "      <td>0</td>\n",
       "      <td>C</td>\n",
       "      <td>50-100</td>\n",
       "      <td>C</td>\n",
       "      <td>Mrs</td>\n",
       "    </tr>\n",
       "    <tr>\n",
       "      <th>2</th>\n",
       "      <td>3</td>\n",
       "      <td>female</td>\n",
       "      <td>21-30</td>\n",
       "      <td>0</td>\n",
       "      <td>0</td>\n",
       "      <td>S</td>\n",
       "      <td>0-10</td>\n",
       "      <td>n</td>\n",
       "      <td>Miss</td>\n",
       "    </tr>\n",
       "    <tr>\n",
       "      <th>3</th>\n",
       "      <td>1</td>\n",
       "      <td>female</td>\n",
       "      <td>31-40</td>\n",
       "      <td>1</td>\n",
       "      <td>0</td>\n",
       "      <td>S</td>\n",
       "      <td>50-100</td>\n",
       "      <td>C</td>\n",
       "      <td>Mrs</td>\n",
       "    </tr>\n",
       "    <tr>\n",
       "      <th>4</th>\n",
       "      <td>3</td>\n",
       "      <td>male</td>\n",
       "      <td>31-40</td>\n",
       "      <td>0</td>\n",
       "      <td>0</td>\n",
       "      <td>S</td>\n",
       "      <td>0-10</td>\n",
       "      <td>n</td>\n",
       "      <td>Mr</td>\n",
       "    </tr>\n",
       "    <tr>\n",
       "      <th>...</th>\n",
       "      <td>...</td>\n",
       "      <td>...</td>\n",
       "      <td>...</td>\n",
       "      <td>...</td>\n",
       "      <td>...</td>\n",
       "      <td>...</td>\n",
       "      <td>...</td>\n",
       "      <td>...</td>\n",
       "      <td>...</td>\n",
       "    </tr>\n",
       "    <tr>\n",
       "      <th>886</th>\n",
       "      <td>2</td>\n",
       "      <td>male</td>\n",
       "      <td>21-30</td>\n",
       "      <td>0</td>\n",
       "      <td>0</td>\n",
       "      <td>S</td>\n",
       "      <td>11-20</td>\n",
       "      <td>n</td>\n",
       "      <td>Rev</td>\n",
       "    </tr>\n",
       "    <tr>\n",
       "      <th>887</th>\n",
       "      <td>1</td>\n",
       "      <td>female</td>\n",
       "      <td>11-20</td>\n",
       "      <td>0</td>\n",
       "      <td>0</td>\n",
       "      <td>S</td>\n",
       "      <td>21-30</td>\n",
       "      <td>B</td>\n",
       "      <td>Miss</td>\n",
       "    </tr>\n",
       "    <tr>\n",
       "      <th>888</th>\n",
       "      <td>3</td>\n",
       "      <td>female</td>\n",
       "      <td>31-40</td>\n",
       "      <td>1</td>\n",
       "      <td>2</td>\n",
       "      <td>S</td>\n",
       "      <td>21-30</td>\n",
       "      <td>n</td>\n",
       "      <td>Miss</td>\n",
       "    </tr>\n",
       "    <tr>\n",
       "      <th>889</th>\n",
       "      <td>1</td>\n",
       "      <td>male</td>\n",
       "      <td>21-30</td>\n",
       "      <td>0</td>\n",
       "      <td>0</td>\n",
       "      <td>C</td>\n",
       "      <td>21-30</td>\n",
       "      <td>C</td>\n",
       "      <td>Mr</td>\n",
       "    </tr>\n",
       "    <tr>\n",
       "      <th>890</th>\n",
       "      <td>3</td>\n",
       "      <td>male</td>\n",
       "      <td>31-40</td>\n",
       "      <td>0</td>\n",
       "      <td>0</td>\n",
       "      <td>Q</td>\n",
       "      <td>0-10</td>\n",
       "      <td>n</td>\n",
       "      <td>Mr</td>\n",
       "    </tr>\n",
       "  </tbody>\n",
       "</table>\n",
       "<p>891 rows × 9 columns</p>\n",
       "</div>"
      ],
      "text/plain": [
       "     Pclass     Sex age_group  SibSp  Parch Embarked Fare_group cabin_adv  \\\n",
       "0         3    male     21-30      1      0        S       0-10         n   \n",
       "1         1  female     31-40      1      0        C     50-100         C   \n",
       "2         3  female     21-30      0      0        S       0-10         n   \n",
       "3         1  female     31-40      1      0        S     50-100         C   \n",
       "4         3    male     31-40      0      0        S       0-10         n   \n",
       "..      ...     ...       ...    ...    ...      ...        ...       ...   \n",
       "886       2    male     21-30      0      0        S      11-20         n   \n",
       "887       1  female     11-20      0      0        S      21-30         B   \n",
       "888       3  female     31-40      1      2        S      21-30         n   \n",
       "889       1    male     21-30      0      0        C      21-30         C   \n",
       "890       3    male     31-40      0      0        Q       0-10         n   \n",
       "\n",
       "    tittle  \n",
       "0       Mr  \n",
       "1      Mrs  \n",
       "2     Miss  \n",
       "3      Mrs  \n",
       "4       Mr  \n",
       "..     ...  \n",
       "886    Rev  \n",
       "887   Miss  \n",
       "888   Miss  \n",
       "889     Mr  \n",
       "890     Mr  \n",
       "\n",
       "[891 rows x 9 columns]"
      ]
     },
     "execution_count": 34,
     "metadata": {},
     "output_type": "execute_result"
    }
   ],
   "source": [
    "train=train_data[features]\n",
    "train_data.drop(['Age','Fare'], axis=1)"
   ]
  },
  {
   "cell_type": "markdown",
   "id": "upper-removal",
   "metadata": {
    "papermill": {
     "duration": 0.103338,
     "end_time": "2021-06-20T16:37:04.608923",
     "exception": false,
     "start_time": "2021-06-20T16:37:04.505585",
     "status": "completed"
    },
    "tags": []
   },
   "source": [
    "Lets get dummy variable for 'train_data'"
   ]
  },
  {
   "cell_type": "code",
   "execution_count": 35,
   "id": "corporate-stake",
   "metadata": {
    "execution": {
     "iopub.execute_input": "2021-06-20T16:37:04.819567Z",
     "iopub.status.busy": "2021-06-20T16:37:04.818602Z",
     "iopub.status.idle": "2021-06-20T16:37:04.831972Z",
     "shell.execute_reply": "2021-06-20T16:37:04.832462Z",
     "shell.execute_reply.started": "2021-06-20T16:35:44.645801Z"
    },
    "papermill": {
     "duration": 0.120204,
     "end_time": "2021-06-20T16:37:04.832651",
     "exception": false,
     "start_time": "2021-06-20T16:37:04.712447",
     "status": "completed"
    },
    "tags": []
   },
   "outputs": [],
   "source": [
    "X=pd.get_dummies(train_data)"
   ]
  },
  {
   "cell_type": "markdown",
   "id": "reduced-jewel",
   "metadata": {
    "papermill": {
     "duration": 0.10633,
     "end_time": "2021-06-20T16:37:05.043319",
     "exception": false,
     "start_time": "2021-06-20T16:37:04.936989",
     "status": "completed"
    },
    "tags": []
   },
   "source": [
    "Let's normalize our 'train'. Normalozation simply means to scale our values within 0 and 1 or -1 and +1, this is done so our models will be more sensitive to slight changes. From the output cells below we can see that ur normalized columns have maximum and minimum values of 1 and 0."
   ]
  },
  {
   "cell_type": "code",
   "execution_count": 36,
   "id": "fluid-springfield",
   "metadata": {
    "execution": {
     "iopub.execute_input": "2021-06-20T16:37:05.255500Z",
     "iopub.status.busy": "2021-06-20T16:37:05.254861Z",
     "iopub.status.idle": "2021-06-20T16:37:05.508129Z",
     "shell.execute_reply": "2021-06-20T16:37:05.507586Z",
     "shell.execute_reply.started": "2021-06-20T16:35:44.660968Z"
    },
    "papermill": {
     "duration": 0.359808,
     "end_time": "2021-06-20T16:37:05.508268",
     "exception": false,
     "start_time": "2021-06-20T16:37:05.148460",
     "status": "completed"
    },
    "tags": []
   },
   "outputs": [
    {
     "data": {
      "text/html": [
       "<div>\n",
       "<style scoped>\n",
       "    .dataframe tbody tr th:only-of-type {\n",
       "        vertical-align: middle;\n",
       "    }\n",
       "\n",
       "    .dataframe tbody tr th {\n",
       "        vertical-align: top;\n",
       "    }\n",
       "\n",
       "    .dataframe thead th {\n",
       "        text-align: right;\n",
       "    }\n",
       "</style>\n",
       "<table border=\"1\" class=\"dataframe\">\n",
       "  <thead>\n",
       "    <tr style=\"text-align: right;\">\n",
       "      <th></th>\n",
       "      <th>Pclass</th>\n",
       "      <th>SibSp</th>\n",
       "      <th>Parch</th>\n",
       "      <th>normalized_age</th>\n",
       "      <th>normalized_fare</th>\n",
       "    </tr>\n",
       "  </thead>\n",
       "  <tbody>\n",
       "    <tr>\n",
       "      <th>count</th>\n",
       "      <td>891.000000</td>\n",
       "      <td>891.000000</td>\n",
       "      <td>891.000000</td>\n",
       "      <td>891.000000</td>\n",
       "      <td>891.000000</td>\n",
       "    </tr>\n",
       "    <tr>\n",
       "      <th>mean</th>\n",
       "      <td>2.308642</td>\n",
       "      <td>0.523008</td>\n",
       "      <td>0.381594</td>\n",
       "      <td>0.369753</td>\n",
       "      <td>0.062858</td>\n",
       "    </tr>\n",
       "    <tr>\n",
       "      <th>std</th>\n",
       "      <td>0.836071</td>\n",
       "      <td>1.102743</td>\n",
       "      <td>0.806057</td>\n",
       "      <td>0.169206</td>\n",
       "      <td>0.096995</td>\n",
       "    </tr>\n",
       "    <tr>\n",
       "      <th>min</th>\n",
       "      <td>1.000000</td>\n",
       "      <td>0.000000</td>\n",
       "      <td>0.000000</td>\n",
       "      <td>0.000000</td>\n",
       "      <td>0.000000</td>\n",
       "    </tr>\n",
       "    <tr>\n",
       "      <th>25%</th>\n",
       "      <td>2.000000</td>\n",
       "      <td>0.000000</td>\n",
       "      <td>0.000000</td>\n",
       "      <td>0.262500</td>\n",
       "      <td>0.015440</td>\n",
       "    </tr>\n",
       "    <tr>\n",
       "      <th>50%</th>\n",
       "      <td>3.000000</td>\n",
       "      <td>0.000000</td>\n",
       "      <td>0.000000</td>\n",
       "      <td>0.350000</td>\n",
       "      <td>0.028213</td>\n",
       "    </tr>\n",
       "    <tr>\n",
       "      <th>75%</th>\n",
       "      <td>3.000000</td>\n",
       "      <td>1.000000</td>\n",
       "      <td>0.000000</td>\n",
       "      <td>0.468750</td>\n",
       "      <td>0.060508</td>\n",
       "    </tr>\n",
       "    <tr>\n",
       "      <th>max</th>\n",
       "      <td>3.000000</td>\n",
       "      <td>8.000000</td>\n",
       "      <td>6.000000</td>\n",
       "      <td>1.000000</td>\n",
       "      <td>1.000000</td>\n",
       "    </tr>\n",
       "  </tbody>\n",
       "</table>\n",
       "</div>"
      ],
      "text/plain": [
       "           Pclass       SibSp       Parch  normalized_age  normalized_fare\n",
       "count  891.000000  891.000000  891.000000      891.000000       891.000000\n",
       "mean     2.308642    0.523008    0.381594        0.369753         0.062858\n",
       "std      0.836071    1.102743    0.806057        0.169206         0.096995\n",
       "min      1.000000    0.000000    0.000000        0.000000         0.000000\n",
       "25%      2.000000    0.000000    0.000000        0.262500         0.015440\n",
       "50%      3.000000    0.000000    0.000000        0.350000         0.028213\n",
       "75%      3.000000    1.000000    0.000000        0.468750         0.060508\n",
       "max      3.000000    8.000000    6.000000        1.000000         1.000000"
      ]
     },
     "execution_count": 36,
     "metadata": {},
     "output_type": "execute_result"
    }
   ],
   "source": [
    "def normalize_input(x):\n",
    "    normalized = (x-min(x))/(max(x)-min(x))\n",
    "    return normalized\n",
    "normalized_age=normalize_input(train.Age)\n",
    "normalized_fare=normalize_input(train.Fare)\n",
    "train['normalized_age']=normalized_age\n",
    "train['normalized_fare']=normalized_fare\n",
    "train.drop(['Age','Fare'], axis=1)\n",
    "normalized_features=['Pclass','SibSp','Parch','normalized_age','normalized_fare','cabin_adv', 'tittle','Sex','Embarked']\n",
    "normalized_train=train[normalized_features]\n",
    "normalized_train_dummies=pd.get_dummies(normalized_train)\n",
    "\n",
    "from sklearn.model_selection import train_test_split\n",
    "\n",
    "normalized_X_train, normalized_X_test, yy_train, yy_test = train_test_split(normalized_train_dummies,y,test_size=0.2,random_state=10)\n",
    "normalized_train.describe()"
   ]
  },
  {
   "cell_type": "markdown",
   "id": "pretty-personality",
   "metadata": {
    "papermill": {
     "duration": 0.103493,
     "end_time": "2021-06-20T16:37:05.715266",
     "exception": false,
     "start_time": "2021-06-20T16:37:05.611773",
     "status": "completed"
    },
    "tags": []
   },
   "source": [
    "Time to import our models"
   ]
  },
  {
   "cell_type": "code",
   "execution_count": 37,
   "id": "final-bankruptcy",
   "metadata": {
    "execution": {
     "iopub.execute_input": "2021-06-20T16:37:05.929759Z",
     "iopub.status.busy": "2021-06-20T16:37:05.929069Z",
     "iopub.status.idle": "2021-06-20T16:37:06.201846Z",
     "shell.execute_reply": "2021-06-20T16:37:06.202351Z",
     "shell.execute_reply.started": "2021-06-20T16:35:44.706320Z"
    },
    "papermill": {
     "duration": 0.383939,
     "end_time": "2021-06-20T16:37:06.202594",
     "exception": false,
     "start_time": "2021-06-20T16:37:05.818655",
     "status": "completed"
    },
    "tags": []
   },
   "outputs": [],
   "source": [
    "\n",
    "from sklearn.model_selection import ShuffleSplit\n",
    "from sklearn.model_selection import cross_val_score\n",
    "from sklearn.linear_model import LogisticRegression\n",
    "from sklearn.linear_model import LinearRegression\n",
    "from sklearn.neighbors import KNeighborsClassifier as KNN\n",
    "from sklearn.ensemble import RandomForestClassifier\n",
    "from sklearn.feature_selection import SelectKBest\n",
    "from sklearn.tree import DecisionTreeRegressor\n",
    "from sklearn.linear_model import Lasso\n",
    "from sklearn.svm import SVC\n",
    "from sklearn.model_selection import GridSearchCV\n",
    "\n"
   ]
  },
  {
   "cell_type": "markdown",
   "id": "annual-surgery",
   "metadata": {
    "papermill": {
     "duration": 0.105088,
     "end_time": "2021-06-20T16:37:06.412633",
     "exception": false,
     "start_time": "2021-06-20T16:37:06.307545",
     "status": "completed"
    },
    "tags": []
   },
   "source": [
    "We are going to split our train/train_data into training and test set so we can evaluate the performance of our models before making predictions and submiting them."
   ]
  },
  {
   "cell_type": "code",
   "execution_count": 38,
   "id": "intimate-depth",
   "metadata": {
    "execution": {
     "iopub.execute_input": "2021-06-20T16:37:06.624140Z",
     "iopub.status.busy": "2021-06-20T16:37:06.623499Z",
     "iopub.status.idle": "2021-06-20T16:37:06.630240Z",
     "shell.execute_reply": "2021-06-20T16:37:06.630728Z",
     "shell.execute_reply.started": "2021-06-20T16:35:44.714870Z"
    },
    "papermill": {
     "duration": 0.114473,
     "end_time": "2021-06-20T16:37:06.630932",
     "exception": false,
     "start_time": "2021-06-20T16:37:06.516459",
     "status": "completed"
    },
    "tags": []
   },
   "outputs": [],
   "source": [
    "X_train, X_test, y_train, y_test = train_test_split(X,y,test_size=0.2,random_state=10)\n"
   ]
  },
  {
   "cell_type": "markdown",
   "id": "configured-cooperation",
   "metadata": {
    "papermill": {
     "duration": 0.103468,
     "end_time": "2021-06-20T16:37:06.838323",
     "exception": false,
     "start_time": "2021-06-20T16:37:06.734855",
     "status": "completed"
    },
    "tags": []
   },
   "source": [
    "# using KNN"
   ]
  },
  {
   "cell_type": "code",
   "execution_count": 39,
   "id": "serious-portrait",
   "metadata": {
    "execution": {
     "iopub.execute_input": "2021-06-20T16:37:07.051723Z",
     "iopub.status.busy": "2021-06-20T16:37:07.051071Z",
     "iopub.status.idle": "2021-06-20T16:37:07.184601Z",
     "shell.execute_reply": "2021-06-20T16:37:07.185988Z",
     "shell.execute_reply.started": "2021-06-20T16:35:44.742275Z"
    },
    "papermill": {
     "duration": 0.244848,
     "end_time": "2021-06-20T16:37:07.186320",
     "exception": false,
     "start_time": "2021-06-20T16:37:06.941472",
     "status": "completed"
    },
    "tags": []
   },
   "outputs": [
    {
     "name": "stdout",
     "output_type": "stream",
     "text": [
      "[0.68531469 0.72027972 0.66901408 0.66901408 0.70422535]\n",
      "0.6895695853442332\n"
     ]
    }
   ],
   "source": [
    "#BEFORE NORMALOZATION\n",
    "model = KNN(n_neighbors=7)\n",
    "cv = cross_val_score(model,X_train,y_train,cv=5)\n",
    "print(cv)\n",
    "print(cv.mean())"
   ]
  },
  {
   "cell_type": "code",
   "execution_count": 40,
   "id": "experienced-drove",
   "metadata": {
    "execution": {
     "iopub.execute_input": "2021-06-20T16:37:07.459210Z",
     "iopub.status.busy": "2021-06-20T16:37:07.458582Z",
     "iopub.status.idle": "2021-06-20T16:37:07.588063Z",
     "shell.execute_reply": "2021-06-20T16:37:07.589099Z",
     "shell.execute_reply.started": "2021-06-20T16:35:44.868940Z"
    },
    "papermill": {
     "duration": 0.240286,
     "end_time": "2021-06-20T16:37:07.589386",
     "exception": false,
     "start_time": "2021-06-20T16:37:07.349100",
     "status": "completed"
    },
    "tags": []
   },
   "outputs": [
    {
     "name": "stdout",
     "output_type": "stream",
     "text": [
      "[0.82517483 0.83916084 0.77464789 0.83802817 0.82394366]\n",
      "0.8201910765291046\n"
     ]
    }
   ],
   "source": [
    "#AFTER NORMALOZATION\n",
    "model = KNN(n_neighbors=7)\n",
    "cv = cross_val_score(model,normalized_X_train,y_train,cv=5)\n",
    "print(cv)\n",
    "print(cv.mean())"
   ]
  },
  {
   "cell_type": "markdown",
   "id": "pretty-advice",
   "metadata": {
    "papermill": {
     "duration": 0.104294,
     "end_time": "2021-06-20T16:37:07.846013",
     "exception": false,
     "start_time": "2021-06-20T16:37:07.741719",
     "status": "completed"
    },
    "tags": []
   },
   "source": [
    "# Using Linear regression"
   ]
  },
  {
   "cell_type": "code",
   "execution_count": 41,
   "id": "standing-smile",
   "metadata": {
    "execution": {
     "iopub.execute_input": "2021-06-20T16:37:08.065257Z",
     "iopub.status.busy": "2021-06-20T16:37:08.064596Z",
     "iopub.status.idle": "2021-06-20T16:37:08.165997Z",
     "shell.execute_reply": "2021-06-20T16:37:08.166993Z",
     "shell.execute_reply.started": "2021-06-20T16:35:44.993470Z"
    },
    "papermill": {
     "duration": 0.215358,
     "end_time": "2021-06-20T16:37:08.167308",
     "exception": false,
     "start_time": "2021-06-20T16:37:07.951950",
     "status": "completed"
    },
    "tags": []
   },
   "outputs": [
    {
     "data": {
      "text/plain": [
       "0.2903155014602742"
      ]
     },
     "execution_count": 41,
     "metadata": {},
     "output_type": "execute_result"
    }
   ],
   "source": [
    "#BEFORE NORMALOZATION\n",
    "cv = ShuffleSplit(n_splits=5, test_size=0.2, random_state=0)\n",
    "v=cross_val_score(LinearRegression(), X_train, y_train, cv=cv)\n",
    "v.mean()"
   ]
  },
  {
   "cell_type": "code",
   "execution_count": 42,
   "id": "toxic-soccer",
   "metadata": {
    "execution": {
     "iopub.execute_input": "2021-06-20T16:37:08.447203Z",
     "iopub.status.busy": "2021-06-20T16:37:08.446147Z",
     "iopub.status.idle": "2021-06-20T16:37:08.515992Z",
     "shell.execute_reply": "2021-06-20T16:37:08.516872Z",
     "shell.execute_reply.started": "2021-06-20T16:35:45.129246Z"
    },
    "papermill": {
     "duration": 0.182892,
     "end_time": "2021-06-20T16:37:08.517163",
     "exception": false,
     "start_time": "2021-06-20T16:37:08.334271",
     "status": "completed"
    },
    "tags": []
   },
   "outputs": [
    {
     "data": {
      "text/plain": [
       "-3.623641264781553e+18"
      ]
     },
     "execution_count": 42,
     "metadata": {},
     "output_type": "execute_result"
    }
   ],
   "source": [
    "#AFTER NORMALOZATION\n",
    "cv = ShuffleSplit(n_splits=5, test_size=0.2, random_state=0)\n",
    "v=cross_val_score(LinearRegression(), normalized_X_train, yy_train, cv=cv)\n",
    "v.mean()"
   ]
  },
  {
   "cell_type": "markdown",
   "id": "precious-therapy",
   "metadata": {
    "papermill": {
     "duration": 0.104985,
     "end_time": "2021-06-20T16:37:08.786018",
     "exception": false,
     "start_time": "2021-06-20T16:37:08.681033",
     "status": "completed"
    },
    "tags": []
   },
   "source": [
    "# Using logistic regression"
   ]
  },
  {
   "cell_type": "code",
   "execution_count": 43,
   "id": "current-writing",
   "metadata": {
    "execution": {
     "iopub.execute_input": "2021-06-20T16:37:09.004501Z",
     "iopub.status.busy": "2021-06-20T16:37:09.003417Z",
     "iopub.status.idle": "2021-06-20T16:37:10.720321Z",
     "shell.execute_reply": "2021-06-20T16:37:10.721253Z",
     "shell.execute_reply.started": "2021-06-20T16:35:45.203684Z"
    },
    "papermill": {
     "duration": 1.829708,
     "end_time": "2021-06-20T16:37:10.721564",
     "exception": false,
     "start_time": "2021-06-20T16:37:08.891856",
     "status": "completed"
    },
    "tags": []
   },
   "outputs": [
    {
     "name": "stdout",
     "output_type": "stream",
     "text": [
      "[0.82517483 0.83216783 0.74647887 0.81690141 0.81690141]\n",
      "0.8075248694967005\n"
     ]
    }
   ],
   "source": [
    "#BEFORE NORMALOZATION\n",
    "lr = LogisticRegression(max_iter = 2000)\n",
    "cv = cross_val_score(lr,X_train,y_train,cv=5)\n",
    "print(cv)\n",
    "print(cv.mean())"
   ]
  },
  {
   "cell_type": "code",
   "execution_count": 44,
   "id": "interpreted-intersection",
   "metadata": {
    "execution": {
     "iopub.execute_input": "2021-06-20T16:37:10.998091Z",
     "iopub.status.busy": "2021-06-20T16:37:10.997478Z",
     "iopub.status.idle": "2021-06-20T16:37:11.215287Z",
     "shell.execute_reply": "2021-06-20T16:37:11.216398Z",
     "shell.execute_reply.started": "2021-06-20T16:35:47.669226Z"
    },
    "papermill": {
     "duration": 0.331273,
     "end_time": "2021-06-20T16:37:11.216676",
     "exception": false,
     "start_time": "2021-06-20T16:37:10.885403",
     "status": "completed"
    },
    "tags": []
   },
   "outputs": [
    {
     "name": "stdout",
     "output_type": "stream",
     "text": [
      "[0.82517483 0.85314685 0.78873239 0.83802817 0.83098592]\n",
      "0.8272136314389835\n"
     ]
    }
   ],
   "source": [
    "#AFTER NORMALOZATION\n",
    "lr = LogisticRegression(max_iter = 2000)\n",
    "cv = cross_val_score(lr,normalized_X_train,yy_train,cv=5)\n",
    "print(cv)\n",
    "print(cv.mean())"
   ]
  },
  {
   "cell_type": "markdown",
   "id": "fuzzy-transparency",
   "metadata": {
    "papermill": {
     "duration": 0.105442,
     "end_time": "2021-06-20T16:37:11.484426",
     "exception": false,
     "start_time": "2021-06-20T16:37:11.378984",
     "status": "completed"
    },
    "tags": []
   },
   "source": [
    "# Using Random forests"
   ]
  },
  {
   "cell_type": "code",
   "execution_count": 45,
   "id": "emotional-bullet",
   "metadata": {
    "execution": {
     "iopub.execute_input": "2021-06-20T16:37:11.704512Z",
     "iopub.status.busy": "2021-06-20T16:37:11.703789Z",
     "iopub.status.idle": "2021-06-20T16:37:12.880589Z",
     "shell.execute_reply": "2021-06-20T16:37:12.881111Z",
     "shell.execute_reply.started": "2021-06-20T16:35:47.915888Z"
    },
    "papermill": {
     "duration": 1.288487,
     "end_time": "2021-06-20T16:37:12.881283",
     "exception": false,
     "start_time": "2021-06-20T16:37:11.592796",
     "status": "completed"
    },
    "tags": []
   },
   "outputs": [
    {
     "name": "stdout",
     "output_type": "stream",
     "text": [
      "[0.7972028  0.76923077 0.73943662 0.82394366 0.79577465]\n",
      "0.7851176992022062\n"
     ]
    }
   ],
   "source": [
    "#BEFORE NORMALOZATION\n",
    "rf = RandomForestClassifier(random_state = 1)\n",
    "cv = cross_val_score(rf,X_train,y_train,cv=5)\n",
    "print(cv)\n",
    "print(cv.mean())"
   ]
  },
  {
   "cell_type": "code",
   "execution_count": 46,
   "id": "julian-collins",
   "metadata": {
    "execution": {
     "iopub.execute_input": "2021-06-20T16:37:13.099192Z",
     "iopub.status.busy": "2021-06-20T16:37:13.098512Z",
     "iopub.status.idle": "2021-06-20T16:37:14.230857Z",
     "shell.execute_reply": "2021-06-20T16:37:14.231532Z",
     "shell.execute_reply.started": "2021-06-20T16:35:48.890135Z"
    },
    "papermill": {
     "duration": 1.24459,
     "end_time": "2021-06-20T16:37:14.231791",
     "exception": false,
     "start_time": "2021-06-20T16:37:12.987201",
     "status": "completed"
    },
    "tags": []
   },
   "outputs": [
    {
     "name": "stdout",
     "output_type": "stream",
     "text": [
      "[0.8041958  0.81118881 0.76056338 0.82394366 0.78169014]\n",
      "0.7963163596966414\n"
     ]
    }
   ],
   "source": [
    "#AFTER NORMALOZATION\n",
    "rf = RandomForestClassifier(random_state = 1)\n",
    "cv = cross_val_score(rf,normalized_X_train,yy_train,cv=5)\n",
    "print(cv)\n",
    "print(cv.mean())"
   ]
  },
  {
   "cell_type": "markdown",
   "id": "peaceful-theorem",
   "metadata": {
    "papermill": {
     "duration": 0.106064,
     "end_time": "2021-06-20T16:37:14.450041",
     "exception": false,
     "start_time": "2021-06-20T16:37:14.343977",
     "status": "completed"
    },
    "tags": []
   },
   "source": [
    "# Using Naive Bayes"
   ]
  },
  {
   "cell_type": "code",
   "execution_count": 47,
   "id": "gorgeous-florist",
   "metadata": {
    "execution": {
     "iopub.execute_input": "2021-06-20T16:37:14.667993Z",
     "iopub.status.busy": "2021-06-20T16:37:14.667083Z",
     "iopub.status.idle": "2021-06-20T16:37:14.715954Z",
     "shell.execute_reply": "2021-06-20T16:37:14.714870Z",
     "shell.execute_reply.started": "2021-06-20T16:35:49.770918Z"
    },
    "papermill": {
     "duration": 0.159829,
     "end_time": "2021-06-20T16:37:14.716242",
     "exception": false,
     "start_time": "2021-06-20T16:37:14.556413",
     "status": "completed"
    },
    "tags": []
   },
   "outputs": [
    {
     "name": "stdout",
     "output_type": "stream",
     "text": [
      "[0.77622378 0.73426573 0.68309859 0.74647887 0.72535211]\n",
      "0.7330838175908598\n"
     ]
    }
   ],
   "source": [
    "#BEFORE NORMALOZATION\n",
    "from sklearn.naive_bayes import GaussianNB\n",
    "gnb = GaussianNB()\n",
    "cv = cross_val_score(gnb,X_train,y_train,cv=5)\n",
    "print(cv)\n",
    "print(cv.mean())"
   ]
  },
  {
   "cell_type": "code",
   "execution_count": 48,
   "id": "seasonal-writing",
   "metadata": {
    "execution": {
     "iopub.execute_input": "2021-06-20T16:37:14.938168Z",
     "iopub.status.busy": "2021-06-20T16:37:14.937510Z",
     "iopub.status.idle": "2021-06-20T16:37:14.981154Z",
     "shell.execute_reply": "2021-06-20T16:37:14.981625Z",
     "shell.execute_reply.started": "2021-06-20T16:35:49.813840Z"
    },
    "papermill": {
     "duration": 0.157114,
     "end_time": "2021-06-20T16:37:14.981807",
     "exception": false,
     "start_time": "2021-06-20T16:37:14.824693",
     "status": "completed"
    },
    "tags": []
   },
   "outputs": [
    {
     "name": "stdout",
     "output_type": "stream",
     "text": [
      "[0.77622378 0.72727273 0.69014085 0.78873239 0.66197183]\n",
      "0.7288683147838078\n"
     ]
    }
   ],
   "source": [
    "#AFTER NORMALOZATION\n",
    "from sklearn.naive_bayes import GaussianNB\n",
    "gnb = GaussianNB()\n",
    "cv = cross_val_score(gnb,normalized_X_train,yy_train,cv=5)\n",
    "print(cv)\n",
    "print(cv.mean())"
   ]
  },
  {
   "cell_type": "markdown",
   "id": "invisible-compiler",
   "metadata": {
    "papermill": {
     "duration": 0.107149,
     "end_time": "2021-06-20T16:37:15.197413",
     "exception": false,
     "start_time": "2021-06-20T16:37:15.090264",
     "status": "completed"
    },
    "tags": []
   },
   "source": [
    "# Using Support Vectors"
   ]
  },
  {
   "cell_type": "code",
   "execution_count": 49,
   "id": "special-simulation",
   "metadata": {
    "execution": {
     "iopub.execute_input": "2021-06-20T16:37:15.419815Z",
     "iopub.status.busy": "2021-06-20T16:37:15.419086Z",
     "iopub.status.idle": "2021-06-20T16:37:16.037002Z",
     "shell.execute_reply": "2021-06-20T16:37:16.036476Z",
     "shell.execute_reply.started": "2021-06-20T16:35:49.855289Z"
    },
    "papermill": {
     "duration": 0.731411,
     "end_time": "2021-06-20T16:37:16.037148",
     "exception": false,
     "start_time": "2021-06-20T16:37:15.305737",
     "status": "completed"
    },
    "tags": []
   },
   "outputs": [
    {
     "name": "stdout",
     "output_type": "stream",
     "text": [
      "[0.65734266 0.62937063 0.66901408 0.64788732 0.64788732]\n",
      "0.6503004038215305\n"
     ]
    }
   ],
   "source": [
    "#BEFORE NORMALOZATION\n",
    "svc = SVC(probability = True)\n",
    "cv = cross_val_score(svc,X_train,y_train,cv=5)\n",
    "print(cv)\n",
    "print(cv.mean())"
   ]
  },
  {
   "cell_type": "code",
   "execution_count": 50,
   "id": "mobile-maldives",
   "metadata": {
    "execution": {
     "iopub.execute_input": "2021-06-20T16:37:16.261335Z",
     "iopub.status.busy": "2021-06-20T16:37:16.260715Z",
     "iopub.status.idle": "2021-06-20T16:37:16.675480Z",
     "shell.execute_reply": "2021-06-20T16:37:16.675931Z",
     "shell.execute_reply.started": "2021-06-20T16:35:50.420270Z"
    },
    "papermill": {
     "duration": 0.531127,
     "end_time": "2021-06-20T16:37:16.676108",
     "exception": false,
     "start_time": "2021-06-20T16:37:16.144981",
     "status": "completed"
    },
    "tags": []
   },
   "outputs": [
    {
     "name": "stdout",
     "output_type": "stream",
     "text": [
      "[0.82517483 0.83916084 0.79577465 0.83098592 0.84507042]\n",
      "0.8272333300502315\n"
     ]
    }
   ],
   "source": [
    "#AFTER NORMALOZATION\n",
    "svc = SVC(probability = True)\n",
    "cv = cross_val_score(svc,normalized_X_train,yy_train,cv=5)\n",
    "print(cv)\n",
    "print(cv.mean())"
   ]
  },
  {
   "cell_type": "markdown",
   "id": "hidden-mauritius",
   "metadata": {
    "papermill": {
     "duration": 0.108943,
     "end_time": "2021-06-20T16:37:16.893551",
     "exception": false,
     "start_time": "2021-06-20T16:37:16.784608",
     "status": "completed"
    },
    "tags": []
   },
   "source": [
    "# Using Extreme gradient bost"
   ]
  },
  {
   "cell_type": "code",
   "execution_count": 51,
   "id": "referenced-sender",
   "metadata": {
    "execution": {
     "iopub.execute_input": "2021-06-20T16:37:17.112227Z",
     "iopub.status.busy": "2021-06-20T16:37:17.111597Z",
     "iopub.status.idle": "2021-06-20T16:37:17.910358Z",
     "shell.execute_reply": "2021-06-20T16:37:17.911130Z",
     "shell.execute_reply.started": "2021-06-20T16:35:50.788959Z"
    },
    "papermill": {
     "duration": 0.910156,
     "end_time": "2021-06-20T16:37:17.911405",
     "exception": false,
     "start_time": "2021-06-20T16:37:17.001249",
     "status": "completed"
    },
    "tags": []
   },
   "outputs": [
    {
     "name": "stderr",
     "output_type": "stream",
     "text": [
      "/opt/conda/lib/python3.7/site-packages/xgboost/sklearn.py:1146: UserWarning: The use of label encoder in XGBClassifier is deprecated and will be removed in a future release. To remove this warning, do the following: 1) Pass option use_label_encoder=False when constructing XGBClassifier object; and 2) Encode your labels (y) as integers starting with 0, i.e. 0, 1, 2, ..., [num_class - 1].\n",
      "  warnings.warn(label_encoder_deprecation_msg, UserWarning)\n",
      "/opt/conda/lib/python3.7/site-packages/xgboost/data.py:114: UserWarning: Use subset (sliced data) of np.ndarray is not recommended because it will generate extra copies and increase memory consumption\n",
      "  \"because it will generate extra copies and increase \" +\n",
      "/opt/conda/lib/python3.7/site-packages/xgboost/sklearn.py:1146: UserWarning: The use of label encoder in XGBClassifier is deprecated and will be removed in a future release. To remove this warning, do the following: 1) Pass option use_label_encoder=False when constructing XGBClassifier object; and 2) Encode your labels (y) as integers starting with 0, i.e. 0, 1, 2, ..., [num_class - 1].\n",
      "  warnings.warn(label_encoder_deprecation_msg, UserWarning)\n"
     ]
    },
    {
     "name": "stdout",
     "output_type": "stream",
     "text": [
      "[16:37:17] WARNING: ../src/learner.cc:1095: Starting in XGBoost 1.3.0, the default evaluation metric used with the objective 'binary:logistic' was changed from 'error' to 'logloss'. Explicitly set eval_metric if you'd like to restore the old behavior.\n",
      "[16:37:17] WARNING: ../src/learner.cc:1095: Starting in XGBoost 1.3.0, the default evaluation metric used with the objective 'binary:logistic' was changed from 'error' to 'logloss'. Explicitly set eval_metric if you'd like to restore the old behavior.\n"
     ]
    },
    {
     "name": "stderr",
     "output_type": "stream",
     "text": [
      "/opt/conda/lib/python3.7/site-packages/xgboost/data.py:114: UserWarning: Use subset (sliced data) of np.ndarray is not recommended because it will generate extra copies and increase memory consumption\n",
      "  \"because it will generate extra copies and increase \" +\n",
      "/opt/conda/lib/python3.7/site-packages/xgboost/sklearn.py:1146: UserWarning: The use of label encoder in XGBClassifier is deprecated and will be removed in a future release. To remove this warning, do the following: 1) Pass option use_label_encoder=False when constructing XGBClassifier object; and 2) Encode your labels (y) as integers starting with 0, i.e. 0, 1, 2, ..., [num_class - 1].\n",
      "  warnings.warn(label_encoder_deprecation_msg, UserWarning)\n",
      "/opt/conda/lib/python3.7/site-packages/xgboost/data.py:114: UserWarning: Use subset (sliced data) of np.ndarray is not recommended because it will generate extra copies and increase memory consumption\n",
      "  \"because it will generate extra copies and increase \" +\n",
      "/opt/conda/lib/python3.7/site-packages/xgboost/sklearn.py:1146: UserWarning: The use of label encoder in XGBClassifier is deprecated and will be removed in a future release. To remove this warning, do the following: 1) Pass option use_label_encoder=False when constructing XGBClassifier object; and 2) Encode your labels (y) as integers starting with 0, i.e. 0, 1, 2, ..., [num_class - 1].\n",
      "  warnings.warn(label_encoder_deprecation_msg, UserWarning)\n"
     ]
    },
    {
     "name": "stdout",
     "output_type": "stream",
     "text": [
      "[16:37:17] WARNING: ../src/learner.cc:1095: Starting in XGBoost 1.3.0, the default evaluation metric used with the objective 'binary:logistic' was changed from 'error' to 'logloss'. Explicitly set eval_metric if you'd like to restore the old behavior.\n",
      "[16:37:17] WARNING: ../src/learner.cc:1095: Starting in XGBoost 1.3.0, the default evaluation metric used with the objective 'binary:logistic' was changed from 'error' to 'logloss'. Explicitly set eval_metric if you'd like to restore the old behavior.\n",
      "[16:37:17] WARNING: ../src/learner.cc:1095: Starting in XGBoost 1.3.0, the default evaluation metric used with the objective 'binary:logistic' was changed from 'error' to 'logloss'. Explicitly set eval_metric if you'd like to restore the old behavior.\n",
      "[0.7972028  0.78321678 0.76760563 0.81690141 0.8028169 ]\n",
      "0.7935487048163106\n"
     ]
    },
    {
     "name": "stderr",
     "output_type": "stream",
     "text": [
      "/opt/conda/lib/python3.7/site-packages/xgboost/data.py:114: UserWarning: Use subset (sliced data) of np.ndarray is not recommended because it will generate extra copies and increase memory consumption\n",
      "  \"because it will generate extra copies and increase \" +\n",
      "/opt/conda/lib/python3.7/site-packages/xgboost/sklearn.py:1146: UserWarning: The use of label encoder in XGBClassifier is deprecated and will be removed in a future release. To remove this warning, do the following: 1) Pass option use_label_encoder=False when constructing XGBClassifier object; and 2) Encode your labels (y) as integers starting with 0, i.e. 0, 1, 2, ..., [num_class - 1].\n",
      "  warnings.warn(label_encoder_deprecation_msg, UserWarning)\n",
      "/opt/conda/lib/python3.7/site-packages/xgboost/data.py:114: UserWarning: Use subset (sliced data) of np.ndarray is not recommended because it will generate extra copies and increase memory consumption\n",
      "  \"because it will generate extra copies and increase \" +\n"
     ]
    }
   ],
   "source": [
    "#BEFORE NORMALOZATION\n",
    "from xgboost import XGBClassifier\n",
    "xgb = XGBClassifier(random_state =1)\n",
    "cv = cross_val_score(xgb,X_train,y_train,cv=5)\n",
    "print(cv)\n",
    "print(cv.mean())"
   ]
  },
  {
   "cell_type": "code",
   "execution_count": 52,
   "id": "willing-bottle",
   "metadata": {
    "execution": {
     "iopub.execute_input": "2021-06-20T16:37:18.142620Z",
     "iopub.status.busy": "2021-06-20T16:37:18.141641Z",
     "iopub.status.idle": "2021-06-20T16:37:18.694030Z",
     "shell.execute_reply": "2021-06-20T16:37:18.694662Z",
     "shell.execute_reply.started": "2021-06-20T16:35:52.204366Z"
    },
    "papermill": {
     "duration": 0.669934,
     "end_time": "2021-06-20T16:37:18.694879",
     "exception": false,
     "start_time": "2021-06-20T16:37:18.024945",
     "status": "completed"
    },
    "tags": []
   },
   "outputs": [
    {
     "name": "stderr",
     "output_type": "stream",
     "text": [
      "/opt/conda/lib/python3.7/site-packages/xgboost/sklearn.py:1146: UserWarning: The use of label encoder in XGBClassifier is deprecated and will be removed in a future release. To remove this warning, do the following: 1) Pass option use_label_encoder=False when constructing XGBClassifier object; and 2) Encode your labels (y) as integers starting with 0, i.e. 0, 1, 2, ..., [num_class - 1].\n",
      "  warnings.warn(label_encoder_deprecation_msg, UserWarning)\n",
      "/opt/conda/lib/python3.7/site-packages/xgboost/data.py:114: UserWarning: Use subset (sliced data) of np.ndarray is not recommended because it will generate extra copies and increase memory consumption\n",
      "  \"because it will generate extra copies and increase \" +\n",
      "/opt/conda/lib/python3.7/site-packages/xgboost/sklearn.py:1146: UserWarning: The use of label encoder in XGBClassifier is deprecated and will be removed in a future release. To remove this warning, do the following: 1) Pass option use_label_encoder=False when constructing XGBClassifier object; and 2) Encode your labels (y) as integers starting with 0, i.e. 0, 1, 2, ..., [num_class - 1].\n",
      "  warnings.warn(label_encoder_deprecation_msg, UserWarning)\n"
     ]
    },
    {
     "name": "stdout",
     "output_type": "stream",
     "text": [
      "[16:37:18] WARNING: ../src/learner.cc:1095: Starting in XGBoost 1.3.0, the default evaluation metric used with the objective 'binary:logistic' was changed from 'error' to 'logloss'. Explicitly set eval_metric if you'd like to restore the old behavior.\n",
      "[16:37:18] WARNING: ../src/learner.cc:1095: Starting in XGBoost 1.3.0, the default evaluation metric used with the objective 'binary:logistic' was changed from 'error' to 'logloss'. Explicitly set eval_metric if you'd like to restore the old behavior.\n"
     ]
    },
    {
     "name": "stderr",
     "output_type": "stream",
     "text": [
      "/opt/conda/lib/python3.7/site-packages/xgboost/data.py:114: UserWarning: Use subset (sliced data) of np.ndarray is not recommended because it will generate extra copies and increase memory consumption\n",
      "  \"because it will generate extra copies and increase \" +\n",
      "/opt/conda/lib/python3.7/site-packages/xgboost/sklearn.py:1146: UserWarning: The use of label encoder in XGBClassifier is deprecated and will be removed in a future release. To remove this warning, do the following: 1) Pass option use_label_encoder=False when constructing XGBClassifier object; and 2) Encode your labels (y) as integers starting with 0, i.e. 0, 1, 2, ..., [num_class - 1].\n",
      "  warnings.warn(label_encoder_deprecation_msg, UserWarning)\n",
      "/opt/conda/lib/python3.7/site-packages/xgboost/data.py:114: UserWarning: Use subset (sliced data) of np.ndarray is not recommended because it will generate extra copies and increase memory consumption\n",
      "  \"because it will generate extra copies and increase \" +\n",
      "/opt/conda/lib/python3.7/site-packages/xgboost/sklearn.py:1146: UserWarning: The use of label encoder in XGBClassifier is deprecated and will be removed in a future release. To remove this warning, do the following: 1) Pass option use_label_encoder=False when constructing XGBClassifier object; and 2) Encode your labels (y) as integers starting with 0, i.e. 0, 1, 2, ..., [num_class - 1].\n",
      "  warnings.warn(label_encoder_deprecation_msg, UserWarning)\n"
     ]
    },
    {
     "name": "stdout",
     "output_type": "stream",
     "text": [
      "[16:37:18] WARNING: ../src/learner.cc:1095: Starting in XGBoost 1.3.0, the default evaluation metric used with the objective 'binary:logistic' was changed from 'error' to 'logloss'. Explicitly set eval_metric if you'd like to restore the old behavior.\n",
      "[16:37:18] WARNING: ../src/learner.cc:1095: Starting in XGBoost 1.3.0, the default evaluation metric used with the objective 'binary:logistic' was changed from 'error' to 'logloss'. Explicitly set eval_metric if you'd like to restore the old behavior.\n",
      "[16:37:18] WARNING: ../src/learner.cc:1095: Starting in XGBoost 1.3.0, the default evaluation metric used with the objective 'binary:logistic' was changed from 'error' to 'logloss'. Explicitly set eval_metric if you'd like to restore the old behavior.\n",
      "[0.77622378 0.78321678 0.76056338 0.8028169  0.78873239]\n",
      "0.7823106470993795\n"
     ]
    },
    {
     "name": "stderr",
     "output_type": "stream",
     "text": [
      "/opt/conda/lib/python3.7/site-packages/xgboost/data.py:114: UserWarning: Use subset (sliced data) of np.ndarray is not recommended because it will generate extra copies and increase memory consumption\n",
      "  \"because it will generate extra copies and increase \" +\n",
      "/opt/conda/lib/python3.7/site-packages/xgboost/sklearn.py:1146: UserWarning: The use of label encoder in XGBClassifier is deprecated and will be removed in a future release. To remove this warning, do the following: 1) Pass option use_label_encoder=False when constructing XGBClassifier object; and 2) Encode your labels (y) as integers starting with 0, i.e. 0, 1, 2, ..., [num_class - 1].\n",
      "  warnings.warn(label_encoder_deprecation_msg, UserWarning)\n",
      "/opt/conda/lib/python3.7/site-packages/xgboost/data.py:114: UserWarning: Use subset (sliced data) of np.ndarray is not recommended because it will generate extra copies and increase memory consumption\n",
      "  \"because it will generate extra copies and increase \" +\n"
     ]
    }
   ],
   "source": [
    "#AFTER NORMALOZATION\n",
    "from xgboost import XGBClassifier\n",
    "xgb = XGBClassifier(random_state =1)\n",
    "cv = cross_val_score(xgb,normalized_X_train,yy_train,cv=5)\n",
    "print(cv)\n",
    "print(cv.mean())"
   ]
  },
  {
   "cell_type": "markdown",
   "id": "purple-country",
   "metadata": {
    "papermill": {
     "duration": 0.111475,
     "end_time": "2021-06-20T16:37:18.930351",
     "exception": false,
     "start_time": "2021-06-20T16:37:18.818876",
     "status": "completed"
    },
    "tags": []
   },
   "source": [
    "From The outputs of our models we can infer that the models that used the normalized data performed better.\n",
    "Logistic regression gave us our best score of 0.827 while linear regression gave our worse of -5.097. Thus we would be making a submission with logistic regression as ou model.\n",
    "Lets prepare our submission file, we have to repeat all preprocessing steps on the test_data"
   ]
  },
  {
   "cell_type": "markdown",
   "id": "excited-biodiversity",
   "metadata": {
    "papermill": {
     "duration": 0.112487,
     "end_time": "2021-06-20T16:37:19.156137",
     "exception": false,
     "start_time": "2021-06-20T16:37:19.043650",
     "status": "completed"
    },
    "tags": []
   },
   "source": [
    "Checking for null values, we find one in the Fare column"
   ]
  },
  {
   "cell_type": "code",
   "execution_count": 53,
   "id": "photographic-graphics",
   "metadata": {
    "execution": {
     "iopub.execute_input": "2021-06-20T16:37:19.388730Z",
     "iopub.status.busy": "2021-06-20T16:37:19.387813Z",
     "iopub.status.idle": "2021-06-20T16:37:19.391688Z",
     "shell.execute_reply": "2021-06-20T16:37:19.392109Z",
     "shell.execute_reply.started": "2021-06-20T16:35:52.745263Z"
    },
    "papermill": {
     "duration": 0.124309,
     "end_time": "2021-06-20T16:37:19.392291",
     "exception": false,
     "start_time": "2021-06-20T16:37:19.267982",
     "status": "completed"
    },
    "tags": []
   },
   "outputs": [
    {
     "data": {
      "text/plain": [
       "PassengerId      0\n",
       "Pclass           0\n",
       "Name             0\n",
       "Sex              0\n",
       "Age              0\n",
       "SibSp            0\n",
       "Parch            0\n",
       "Ticket           0\n",
       "Fare             1\n",
       "Cabin          327\n",
       "Embarked         0\n",
       "dtype: int64"
      ]
     },
     "execution_count": 53,
     "metadata": {},
     "output_type": "execute_result"
    }
   ],
   "source": [
    "test_data.isnull().sum()"
   ]
  },
  {
   "cell_type": "markdown",
   "id": "optimum-thursday",
   "metadata": {
    "papermill": {
     "duration": 0.112495,
     "end_time": "2021-06-20T16:37:19.616395",
     "exception": false,
     "start_time": "2021-06-20T16:37:19.503900",
     "status": "completed"
    },
    "tags": []
   },
   "source": [
    "We would be getting the index of the null value in the fare column and imouting the mean of all values in the fare column."
   ]
  },
  {
   "cell_type": "code",
   "execution_count": 54,
   "id": "turkish-discretion",
   "metadata": {
    "execution": {
     "iopub.execute_input": "2021-06-20T16:37:19.849154Z",
     "iopub.status.busy": "2021-06-20T16:37:19.848463Z",
     "iopub.status.idle": "2021-06-20T16:37:19.852617Z",
     "shell.execute_reply": "2021-06-20T16:37:19.852095Z",
     "shell.execute_reply.started": "2021-06-20T16:35:52.754878Z"
    },
    "papermill": {
     "duration": 0.124208,
     "end_time": "2021-06-20T16:37:19.852766",
     "exception": false,
     "start_time": "2021-06-20T16:37:19.728558",
     "status": "completed"
    },
    "tags": []
   },
   "outputs": [
    {
     "name": "stdout",
     "output_type": "stream",
     "text": [
      "22.3583\n"
     ]
    },
    {
     "name": "stderr",
     "output_type": "stream",
     "text": [
      "/opt/conda/lib/python3.7/site-packages/ipykernel_launcher.py:3: SettingWithCopyWarning: \n",
      "A value is trying to be set on a copy of a slice from a DataFrame\n",
      "\n",
      "See the caveats in the documentation: https://pandas.pydata.org/pandas-docs/stable/user_guide/indexing.html#returning-a-view-versus-a-copy\n",
      "  This is separate from the ipykernel package so we can avoid doing imports until\n"
     ]
    }
   ],
   "source": [
    "for i,j in enumerate(test_data.Fare):\n",
    "    if np.isnan(j):\n",
    "        test_data.Fare[i]=test_data.Fare.mean()\n",
    "print(test_data.Fare[i])"
   ]
  },
  {
   "cell_type": "markdown",
   "id": "julian-parent",
   "metadata": {
    "papermill": {
     "duration": 0.113522,
     "end_time": "2021-06-20T16:37:20.079746",
     "exception": false,
     "start_time": "2021-06-20T16:37:19.966224",
     "status": "completed"
    },
    "tags": []
   },
   "source": [
    "It's time for some feature engineering. We would be extracting the forst chracter of the cabin numbers and also extracting the tittles from the names of the passengers."
   ]
  },
  {
   "cell_type": "code",
   "execution_count": 55,
   "id": "upset-estimate",
   "metadata": {
    "execution": {
     "iopub.execute_input": "2021-06-20T16:37:20.311533Z",
     "iopub.status.busy": "2021-06-20T16:37:20.310909Z",
     "iopub.status.idle": "2021-06-20T16:37:20.318478Z",
     "shell.execute_reply": "2021-06-20T16:37:20.318951Z",
     "shell.execute_reply.started": "2021-06-20T16:35:52.771566Z"
    },
    "papermill": {
     "duration": 0.125581,
     "end_time": "2021-06-20T16:37:20.319131",
     "exception": false,
     "start_time": "2021-06-20T16:37:20.193550",
     "status": "completed"
    },
    "tags": []
   },
   "outputs": [],
   "source": [
    "test_data['cabin_adv'] = test_data.Cabin.apply(lambda x: str(x)[0])\n",
    "test_data['tittle'] = test_data.Name.apply(lambda x: x.split(',')[1].split('.')[0].strip())"
   ]
  },
  {
   "cell_type": "markdown",
   "id": "floating-minnesota",
   "metadata": {
    "papermill": {
     "duration": 0.112312,
     "end_time": "2021-06-20T16:37:20.544759",
     "exception": false,
     "start_time": "2021-06-20T16:37:20.432447",
     "status": "completed"
    },
    "tags": []
   },
   "source": [
    "We have to normalize the Age and fare column as done on the training set. "
   ]
  },
  {
   "cell_type": "code",
   "execution_count": 56,
   "id": "becoming-surprise",
   "metadata": {
    "execution": {
     "iopub.execute_input": "2021-06-20T16:37:20.774683Z",
     "iopub.status.busy": "2021-06-20T16:37:20.774048Z",
     "iopub.status.idle": "2021-06-20T16:37:20.807138Z",
     "shell.execute_reply": "2021-06-20T16:37:20.807648Z",
     "shell.execute_reply.started": "2021-06-20T16:35:52.783743Z"
    },
    "papermill": {
     "duration": 0.148655,
     "end_time": "2021-06-20T16:37:20.807837",
     "exception": false,
     "start_time": "2021-06-20T16:37:20.659182",
     "status": "completed"
    },
    "tags": []
   },
   "outputs": [
    {
     "data": {
      "text/html": [
       "<div>\n",
       "<style scoped>\n",
       "    .dataframe tbody tr th:only-of-type {\n",
       "        vertical-align: middle;\n",
       "    }\n",
       "\n",
       "    .dataframe tbody tr th {\n",
       "        vertical-align: top;\n",
       "    }\n",
       "\n",
       "    .dataframe thead th {\n",
       "        text-align: right;\n",
       "    }\n",
       "</style>\n",
       "<table border=\"1\" class=\"dataframe\">\n",
       "  <thead>\n",
       "    <tr style=\"text-align: right;\">\n",
       "      <th></th>\n",
       "      <th>PassengerId</th>\n",
       "      <th>Pclass</th>\n",
       "      <th>Name</th>\n",
       "      <th>Sex</th>\n",
       "      <th>Age</th>\n",
       "      <th>SibSp</th>\n",
       "      <th>Parch</th>\n",
       "      <th>Ticket</th>\n",
       "      <th>Fare</th>\n",
       "      <th>Cabin</th>\n",
       "      <th>Embarked</th>\n",
       "      <th>cabin_adv</th>\n",
       "      <th>tittle</th>\n",
       "      <th>normalized_age</th>\n",
       "      <th>normalized_fare</th>\n",
       "    </tr>\n",
       "  </thead>\n",
       "  <tbody>\n",
       "    <tr>\n",
       "      <th>0</th>\n",
       "      <td>892</td>\n",
       "      <td>3</td>\n",
       "      <td>Kelly, Mr. James</td>\n",
       "      <td>male</td>\n",
       "      <td>34</td>\n",
       "      <td>0</td>\n",
       "      <td>0</td>\n",
       "      <td>330911</td>\n",
       "      <td>7.8292</td>\n",
       "      <td>NaN</td>\n",
       "      <td>Q</td>\n",
       "      <td>n</td>\n",
       "      <td>Mr</td>\n",
       "      <td>0.447368</td>\n",
       "      <td>0.015282</td>\n",
       "    </tr>\n",
       "    <tr>\n",
       "      <th>1</th>\n",
       "      <td>893</td>\n",
       "      <td>3</td>\n",
       "      <td>Wilkes, Mrs. James (Ellen Needs)</td>\n",
       "      <td>female</td>\n",
       "      <td>47</td>\n",
       "      <td>1</td>\n",
       "      <td>0</td>\n",
       "      <td>363272</td>\n",
       "      <td>7.0000</td>\n",
       "      <td>NaN</td>\n",
       "      <td>S</td>\n",
       "      <td>n</td>\n",
       "      <td>Mrs</td>\n",
       "      <td>0.618421</td>\n",
       "      <td>0.013663</td>\n",
       "    </tr>\n",
       "    <tr>\n",
       "      <th>2</th>\n",
       "      <td>894</td>\n",
       "      <td>2</td>\n",
       "      <td>Myles, Mr. Thomas Francis</td>\n",
       "      <td>male</td>\n",
       "      <td>62</td>\n",
       "      <td>0</td>\n",
       "      <td>0</td>\n",
       "      <td>240276</td>\n",
       "      <td>9.6875</td>\n",
       "      <td>NaN</td>\n",
       "      <td>Q</td>\n",
       "      <td>n</td>\n",
       "      <td>Mr</td>\n",
       "      <td>0.815789</td>\n",
       "      <td>0.018909</td>\n",
       "    </tr>\n",
       "    <tr>\n",
       "      <th>3</th>\n",
       "      <td>895</td>\n",
       "      <td>3</td>\n",
       "      <td>Wirz, Mr. Albert</td>\n",
       "      <td>male</td>\n",
       "      <td>27</td>\n",
       "      <td>0</td>\n",
       "      <td>0</td>\n",
       "      <td>315154</td>\n",
       "      <td>8.6625</td>\n",
       "      <td>NaN</td>\n",
       "      <td>S</td>\n",
       "      <td>n</td>\n",
       "      <td>Mr</td>\n",
       "      <td>0.355263</td>\n",
       "      <td>0.016908</td>\n",
       "    </tr>\n",
       "    <tr>\n",
       "      <th>4</th>\n",
       "      <td>896</td>\n",
       "      <td>3</td>\n",
       "      <td>Hirvonen, Mrs. Alexander (Helga E Lindqvist)</td>\n",
       "      <td>female</td>\n",
       "      <td>22</td>\n",
       "      <td>1</td>\n",
       "      <td>1</td>\n",
       "      <td>3101298</td>\n",
       "      <td>12.2875</td>\n",
       "      <td>NaN</td>\n",
       "      <td>S</td>\n",
       "      <td>n</td>\n",
       "      <td>Mrs</td>\n",
       "      <td>0.289474</td>\n",
       "      <td>0.023984</td>\n",
       "    </tr>\n",
       "    <tr>\n",
       "      <th>...</th>\n",
       "      <td>...</td>\n",
       "      <td>...</td>\n",
       "      <td>...</td>\n",
       "      <td>...</td>\n",
       "      <td>...</td>\n",
       "      <td>...</td>\n",
       "      <td>...</td>\n",
       "      <td>...</td>\n",
       "      <td>...</td>\n",
       "      <td>...</td>\n",
       "      <td>...</td>\n",
       "      <td>...</td>\n",
       "      <td>...</td>\n",
       "      <td>...</td>\n",
       "      <td>...</td>\n",
       "    </tr>\n",
       "    <tr>\n",
       "      <th>413</th>\n",
       "      <td>1305</td>\n",
       "      <td>3</td>\n",
       "      <td>Spector, Mr. Woolf</td>\n",
       "      <td>male</td>\n",
       "      <td>15</td>\n",
       "      <td>0</td>\n",
       "      <td>0</td>\n",
       "      <td>A.5. 3236</td>\n",
       "      <td>8.0500</td>\n",
       "      <td>NaN</td>\n",
       "      <td>S</td>\n",
       "      <td>n</td>\n",
       "      <td>Mr</td>\n",
       "      <td>0.197368</td>\n",
       "      <td>0.015713</td>\n",
       "    </tr>\n",
       "    <tr>\n",
       "      <th>414</th>\n",
       "      <td>1306</td>\n",
       "      <td>1</td>\n",
       "      <td>Oliva y Ocana, Dona. Fermina</td>\n",
       "      <td>female</td>\n",
       "      <td>39</td>\n",
       "      <td>0</td>\n",
       "      <td>0</td>\n",
       "      <td>PC 17758</td>\n",
       "      <td>108.9000</td>\n",
       "      <td>C105</td>\n",
       "      <td>C</td>\n",
       "      <td>C</td>\n",
       "      <td>Dona</td>\n",
       "      <td>0.513158</td>\n",
       "      <td>0.212559</td>\n",
       "    </tr>\n",
       "    <tr>\n",
       "      <th>415</th>\n",
       "      <td>1307</td>\n",
       "      <td>3</td>\n",
       "      <td>Saether, Mr. Simon Sivertsen</td>\n",
       "      <td>male</td>\n",
       "      <td>38</td>\n",
       "      <td>0</td>\n",
       "      <td>0</td>\n",
       "      <td>SOTON/O.Q. 3101262</td>\n",
       "      <td>7.2500</td>\n",
       "      <td>NaN</td>\n",
       "      <td>S</td>\n",
       "      <td>n</td>\n",
       "      <td>Mr</td>\n",
       "      <td>0.500000</td>\n",
       "      <td>0.014151</td>\n",
       "    </tr>\n",
       "    <tr>\n",
       "      <th>416</th>\n",
       "      <td>1308</td>\n",
       "      <td>3</td>\n",
       "      <td>Ware, Mr. Frederick</td>\n",
       "      <td>male</td>\n",
       "      <td>16</td>\n",
       "      <td>0</td>\n",
       "      <td>0</td>\n",
       "      <td>359309</td>\n",
       "      <td>8.0500</td>\n",
       "      <td>NaN</td>\n",
       "      <td>S</td>\n",
       "      <td>n</td>\n",
       "      <td>Mr</td>\n",
       "      <td>0.210526</td>\n",
       "      <td>0.015713</td>\n",
       "    </tr>\n",
       "    <tr>\n",
       "      <th>417</th>\n",
       "      <td>1309</td>\n",
       "      <td>3</td>\n",
       "      <td>Peter, Master. Michael J</td>\n",
       "      <td>male</td>\n",
       "      <td>16</td>\n",
       "      <td>1</td>\n",
       "      <td>1</td>\n",
       "      <td>2668</td>\n",
       "      <td>22.3583</td>\n",
       "      <td>NaN</td>\n",
       "      <td>C</td>\n",
       "      <td>n</td>\n",
       "      <td>Master</td>\n",
       "      <td>0.210526</td>\n",
       "      <td>0.043640</td>\n",
       "    </tr>\n",
       "  </tbody>\n",
       "</table>\n",
       "<p>418 rows × 15 columns</p>\n",
       "</div>"
      ],
      "text/plain": [
       "     PassengerId  Pclass                                          Name  \\\n",
       "0            892       3                              Kelly, Mr. James   \n",
       "1            893       3              Wilkes, Mrs. James (Ellen Needs)   \n",
       "2            894       2                     Myles, Mr. Thomas Francis   \n",
       "3            895       3                              Wirz, Mr. Albert   \n",
       "4            896       3  Hirvonen, Mrs. Alexander (Helga E Lindqvist)   \n",
       "..           ...     ...                                           ...   \n",
       "413         1305       3                            Spector, Mr. Woolf   \n",
       "414         1306       1                  Oliva y Ocana, Dona. Fermina   \n",
       "415         1307       3                  Saether, Mr. Simon Sivertsen   \n",
       "416         1308       3                           Ware, Mr. Frederick   \n",
       "417         1309       3                      Peter, Master. Michael J   \n",
       "\n",
       "        Sex  Age  SibSp  Parch              Ticket      Fare Cabin Embarked  \\\n",
       "0      male   34      0      0              330911    7.8292   NaN        Q   \n",
       "1    female   47      1      0              363272    7.0000   NaN        S   \n",
       "2      male   62      0      0              240276    9.6875   NaN        Q   \n",
       "3      male   27      0      0              315154    8.6625   NaN        S   \n",
       "4    female   22      1      1             3101298   12.2875   NaN        S   \n",
       "..      ...  ...    ...    ...                 ...       ...   ...      ...   \n",
       "413    male   15      0      0           A.5. 3236    8.0500   NaN        S   \n",
       "414  female   39      0      0            PC 17758  108.9000  C105        C   \n",
       "415    male   38      0      0  SOTON/O.Q. 3101262    7.2500   NaN        S   \n",
       "416    male   16      0      0              359309    8.0500   NaN        S   \n",
       "417    male   16      1      1                2668   22.3583   NaN        C   \n",
       "\n",
       "    cabin_adv  tittle  normalized_age  normalized_fare  \n",
       "0           n      Mr        0.447368         0.015282  \n",
       "1           n     Mrs        0.618421         0.013663  \n",
       "2           n      Mr        0.815789         0.018909  \n",
       "3           n      Mr        0.355263         0.016908  \n",
       "4           n     Mrs        0.289474         0.023984  \n",
       "..        ...     ...             ...              ...  \n",
       "413         n      Mr        0.197368         0.015713  \n",
       "414         C    Dona        0.513158         0.212559  \n",
       "415         n      Mr        0.500000         0.014151  \n",
       "416         n      Mr        0.210526         0.015713  \n",
       "417         n  Master        0.210526         0.043640  \n",
       "\n",
       "[418 rows x 15 columns]"
      ]
     },
     "execution_count": 56,
     "metadata": {},
     "output_type": "execute_result"
    }
   ],
   "source": [
    "normalized_age=normalize_input(test_data.Age)\n",
    "normalized_fare=normalize_input(test_data.Fare)\n",
    "test_data['normalized_age']=normalized_age\n",
    "test_data['normalized_fare']=normalized_fare\n",
    "test_data"
   ]
  },
  {
   "cell_type": "markdown",
   "id": "roman-breast",
   "metadata": {
    "papermill": {
     "duration": 0.114652,
     "end_time": "2021-06-20T16:37:21.036733",
     "exception": false,
     "start_time": "2021-06-20T16:37:20.922081",
     "status": "completed"
    },
    "tags": []
   },
   "source": [
    "Getting our dummy variables"
   ]
  },
  {
   "cell_type": "code",
   "execution_count": 57,
   "id": "herbal-lightweight",
   "metadata": {
    "execution": {
     "iopub.execute_input": "2021-06-20T16:37:21.270134Z",
     "iopub.status.busy": "2021-06-20T16:37:21.269478Z",
     "iopub.status.idle": "2021-06-20T16:37:21.307069Z",
     "shell.execute_reply": "2021-06-20T16:37:21.306408Z",
     "shell.execute_reply.started": "2021-06-20T16:35:52.821199Z"
    },
    "papermill": {
     "duration": 0.15536,
     "end_time": "2021-06-20T16:37:21.307236",
     "exception": false,
     "start_time": "2021-06-20T16:37:21.151876",
     "status": "completed"
    },
    "tags": []
   },
   "outputs": [
    {
     "data": {
      "text/html": [
       "<div>\n",
       "<style scoped>\n",
       "    .dataframe tbody tr th:only-of-type {\n",
       "        vertical-align: middle;\n",
       "    }\n",
       "\n",
       "    .dataframe tbody tr th {\n",
       "        vertical-align: top;\n",
       "    }\n",
       "\n",
       "    .dataframe thead th {\n",
       "        text-align: right;\n",
       "    }\n",
       "</style>\n",
       "<table border=\"1\" class=\"dataframe\">\n",
       "  <thead>\n",
       "    <tr style=\"text-align: right;\">\n",
       "      <th></th>\n",
       "      <th>Pclass</th>\n",
       "      <th>SibSp</th>\n",
       "      <th>Parch</th>\n",
       "      <th>normalized_age</th>\n",
       "      <th>normalized_fare</th>\n",
       "      <th>Sex_female</th>\n",
       "      <th>Sex_male</th>\n",
       "      <th>Embarked_C</th>\n",
       "      <th>Embarked_Q</th>\n",
       "      <th>Embarked_S</th>\n",
       "      <th>...</th>\n",
       "      <th>cabin_adv_n</th>\n",
       "      <th>tittle_Col</th>\n",
       "      <th>tittle_Dona</th>\n",
       "      <th>tittle_Dr</th>\n",
       "      <th>tittle_Master</th>\n",
       "      <th>tittle_Miss</th>\n",
       "      <th>tittle_Mr</th>\n",
       "      <th>tittle_Mrs</th>\n",
       "      <th>tittle_Ms</th>\n",
       "      <th>tittle_Rev</th>\n",
       "    </tr>\n",
       "  </thead>\n",
       "  <tbody>\n",
       "    <tr>\n",
       "      <th>0</th>\n",
       "      <td>3</td>\n",
       "      <td>0</td>\n",
       "      <td>0</td>\n",
       "      <td>0.447368</td>\n",
       "      <td>0.015282</td>\n",
       "      <td>0</td>\n",
       "      <td>1</td>\n",
       "      <td>0</td>\n",
       "      <td>1</td>\n",
       "      <td>0</td>\n",
       "      <td>...</td>\n",
       "      <td>1</td>\n",
       "      <td>0</td>\n",
       "      <td>0</td>\n",
       "      <td>0</td>\n",
       "      <td>0</td>\n",
       "      <td>0</td>\n",
       "      <td>1</td>\n",
       "      <td>0</td>\n",
       "      <td>0</td>\n",
       "      <td>0</td>\n",
       "    </tr>\n",
       "    <tr>\n",
       "      <th>1</th>\n",
       "      <td>3</td>\n",
       "      <td>1</td>\n",
       "      <td>0</td>\n",
       "      <td>0.618421</td>\n",
       "      <td>0.013663</td>\n",
       "      <td>1</td>\n",
       "      <td>0</td>\n",
       "      <td>0</td>\n",
       "      <td>0</td>\n",
       "      <td>1</td>\n",
       "      <td>...</td>\n",
       "      <td>1</td>\n",
       "      <td>0</td>\n",
       "      <td>0</td>\n",
       "      <td>0</td>\n",
       "      <td>0</td>\n",
       "      <td>0</td>\n",
       "      <td>0</td>\n",
       "      <td>1</td>\n",
       "      <td>0</td>\n",
       "      <td>0</td>\n",
       "    </tr>\n",
       "    <tr>\n",
       "      <th>2</th>\n",
       "      <td>2</td>\n",
       "      <td>0</td>\n",
       "      <td>0</td>\n",
       "      <td>0.815789</td>\n",
       "      <td>0.018909</td>\n",
       "      <td>0</td>\n",
       "      <td>1</td>\n",
       "      <td>0</td>\n",
       "      <td>1</td>\n",
       "      <td>0</td>\n",
       "      <td>...</td>\n",
       "      <td>1</td>\n",
       "      <td>0</td>\n",
       "      <td>0</td>\n",
       "      <td>0</td>\n",
       "      <td>0</td>\n",
       "      <td>0</td>\n",
       "      <td>1</td>\n",
       "      <td>0</td>\n",
       "      <td>0</td>\n",
       "      <td>0</td>\n",
       "    </tr>\n",
       "    <tr>\n",
       "      <th>3</th>\n",
       "      <td>3</td>\n",
       "      <td>0</td>\n",
       "      <td>0</td>\n",
       "      <td>0.355263</td>\n",
       "      <td>0.016908</td>\n",
       "      <td>0</td>\n",
       "      <td>1</td>\n",
       "      <td>0</td>\n",
       "      <td>0</td>\n",
       "      <td>1</td>\n",
       "      <td>...</td>\n",
       "      <td>1</td>\n",
       "      <td>0</td>\n",
       "      <td>0</td>\n",
       "      <td>0</td>\n",
       "      <td>0</td>\n",
       "      <td>0</td>\n",
       "      <td>1</td>\n",
       "      <td>0</td>\n",
       "      <td>0</td>\n",
       "      <td>0</td>\n",
       "    </tr>\n",
       "    <tr>\n",
       "      <th>4</th>\n",
       "      <td>3</td>\n",
       "      <td>1</td>\n",
       "      <td>1</td>\n",
       "      <td>0.289474</td>\n",
       "      <td>0.023984</td>\n",
       "      <td>1</td>\n",
       "      <td>0</td>\n",
       "      <td>0</td>\n",
       "      <td>0</td>\n",
       "      <td>1</td>\n",
       "      <td>...</td>\n",
       "      <td>1</td>\n",
       "      <td>0</td>\n",
       "      <td>0</td>\n",
       "      <td>0</td>\n",
       "      <td>0</td>\n",
       "      <td>0</td>\n",
       "      <td>0</td>\n",
       "      <td>1</td>\n",
       "      <td>0</td>\n",
       "      <td>0</td>\n",
       "    </tr>\n",
       "    <tr>\n",
       "      <th>...</th>\n",
       "      <td>...</td>\n",
       "      <td>...</td>\n",
       "      <td>...</td>\n",
       "      <td>...</td>\n",
       "      <td>...</td>\n",
       "      <td>...</td>\n",
       "      <td>...</td>\n",
       "      <td>...</td>\n",
       "      <td>...</td>\n",
       "      <td>...</td>\n",
       "      <td>...</td>\n",
       "      <td>...</td>\n",
       "      <td>...</td>\n",
       "      <td>...</td>\n",
       "      <td>...</td>\n",
       "      <td>...</td>\n",
       "      <td>...</td>\n",
       "      <td>...</td>\n",
       "      <td>...</td>\n",
       "      <td>...</td>\n",
       "      <td>...</td>\n",
       "    </tr>\n",
       "    <tr>\n",
       "      <th>413</th>\n",
       "      <td>3</td>\n",
       "      <td>0</td>\n",
       "      <td>0</td>\n",
       "      <td>0.197368</td>\n",
       "      <td>0.015713</td>\n",
       "      <td>0</td>\n",
       "      <td>1</td>\n",
       "      <td>0</td>\n",
       "      <td>0</td>\n",
       "      <td>1</td>\n",
       "      <td>...</td>\n",
       "      <td>1</td>\n",
       "      <td>0</td>\n",
       "      <td>0</td>\n",
       "      <td>0</td>\n",
       "      <td>0</td>\n",
       "      <td>0</td>\n",
       "      <td>1</td>\n",
       "      <td>0</td>\n",
       "      <td>0</td>\n",
       "      <td>0</td>\n",
       "    </tr>\n",
       "    <tr>\n",
       "      <th>414</th>\n",
       "      <td>1</td>\n",
       "      <td>0</td>\n",
       "      <td>0</td>\n",
       "      <td>0.513158</td>\n",
       "      <td>0.212559</td>\n",
       "      <td>1</td>\n",
       "      <td>0</td>\n",
       "      <td>1</td>\n",
       "      <td>0</td>\n",
       "      <td>0</td>\n",
       "      <td>...</td>\n",
       "      <td>0</td>\n",
       "      <td>0</td>\n",
       "      <td>1</td>\n",
       "      <td>0</td>\n",
       "      <td>0</td>\n",
       "      <td>0</td>\n",
       "      <td>0</td>\n",
       "      <td>0</td>\n",
       "      <td>0</td>\n",
       "      <td>0</td>\n",
       "    </tr>\n",
       "    <tr>\n",
       "      <th>415</th>\n",
       "      <td>3</td>\n",
       "      <td>0</td>\n",
       "      <td>0</td>\n",
       "      <td>0.500000</td>\n",
       "      <td>0.014151</td>\n",
       "      <td>0</td>\n",
       "      <td>1</td>\n",
       "      <td>0</td>\n",
       "      <td>0</td>\n",
       "      <td>1</td>\n",
       "      <td>...</td>\n",
       "      <td>1</td>\n",
       "      <td>0</td>\n",
       "      <td>0</td>\n",
       "      <td>0</td>\n",
       "      <td>0</td>\n",
       "      <td>0</td>\n",
       "      <td>1</td>\n",
       "      <td>0</td>\n",
       "      <td>0</td>\n",
       "      <td>0</td>\n",
       "    </tr>\n",
       "    <tr>\n",
       "      <th>416</th>\n",
       "      <td>3</td>\n",
       "      <td>0</td>\n",
       "      <td>0</td>\n",
       "      <td>0.210526</td>\n",
       "      <td>0.015713</td>\n",
       "      <td>0</td>\n",
       "      <td>1</td>\n",
       "      <td>0</td>\n",
       "      <td>0</td>\n",
       "      <td>1</td>\n",
       "      <td>...</td>\n",
       "      <td>1</td>\n",
       "      <td>0</td>\n",
       "      <td>0</td>\n",
       "      <td>0</td>\n",
       "      <td>0</td>\n",
       "      <td>0</td>\n",
       "      <td>1</td>\n",
       "      <td>0</td>\n",
       "      <td>0</td>\n",
       "      <td>0</td>\n",
       "    </tr>\n",
       "    <tr>\n",
       "      <th>417</th>\n",
       "      <td>3</td>\n",
       "      <td>1</td>\n",
       "      <td>1</td>\n",
       "      <td>0.210526</td>\n",
       "      <td>0.043640</td>\n",
       "      <td>0</td>\n",
       "      <td>1</td>\n",
       "      <td>1</td>\n",
       "      <td>0</td>\n",
       "      <td>0</td>\n",
       "      <td>...</td>\n",
       "      <td>1</td>\n",
       "      <td>0</td>\n",
       "      <td>0</td>\n",
       "      <td>0</td>\n",
       "      <td>1</td>\n",
       "      <td>0</td>\n",
       "      <td>0</td>\n",
       "      <td>0</td>\n",
       "      <td>0</td>\n",
       "      <td>0</td>\n",
       "    </tr>\n",
       "  </tbody>\n",
       "</table>\n",
       "<p>418 rows × 27 columns</p>\n",
       "</div>"
      ],
      "text/plain": [
       "     Pclass  SibSp  Parch  normalized_age  normalized_fare  Sex_female  \\\n",
       "0         3      0      0        0.447368         0.015282           0   \n",
       "1         3      1      0        0.618421         0.013663           1   \n",
       "2         2      0      0        0.815789         0.018909           0   \n",
       "3         3      0      0        0.355263         0.016908           0   \n",
       "4         3      1      1        0.289474         0.023984           1   \n",
       "..      ...    ...    ...             ...              ...         ...   \n",
       "413       3      0      0        0.197368         0.015713           0   \n",
       "414       1      0      0        0.513158         0.212559           1   \n",
       "415       3      0      0        0.500000         0.014151           0   \n",
       "416       3      0      0        0.210526         0.015713           0   \n",
       "417       3      1      1        0.210526         0.043640           0   \n",
       "\n",
       "     Sex_male  Embarked_C  Embarked_Q  Embarked_S  ...  cabin_adv_n  \\\n",
       "0           1           0           1           0  ...            1   \n",
       "1           0           0           0           1  ...            1   \n",
       "2           1           0           1           0  ...            1   \n",
       "3           1           0           0           1  ...            1   \n",
       "4           0           0           0           1  ...            1   \n",
       "..        ...         ...         ...         ...  ...          ...   \n",
       "413         1           0           0           1  ...            1   \n",
       "414         0           1           0           0  ...            0   \n",
       "415         1           0           0           1  ...            1   \n",
       "416         1           0           0           1  ...            1   \n",
       "417         1           1           0           0  ...            1   \n",
       "\n",
       "     tittle_Col  tittle_Dona  tittle_Dr  tittle_Master  tittle_Miss  \\\n",
       "0             0            0          0              0            0   \n",
       "1             0            0          0              0            0   \n",
       "2             0            0          0              0            0   \n",
       "3             0            0          0              0            0   \n",
       "4             0            0          0              0            0   \n",
       "..          ...          ...        ...            ...          ...   \n",
       "413           0            0          0              0            0   \n",
       "414           0            1          0              0            0   \n",
       "415           0            0          0              0            0   \n",
       "416           0            0          0              0            0   \n",
       "417           0            0          0              1            0   \n",
       "\n",
       "     tittle_Mr  tittle_Mrs  tittle_Ms  tittle_Rev  \n",
       "0            1           0          0           0  \n",
       "1            0           1          0           0  \n",
       "2            1           0          0           0  \n",
       "3            1           0          0           0  \n",
       "4            0           1          0           0  \n",
       "..         ...         ...        ...         ...  \n",
       "413          1           0          0           0  \n",
       "414          0           0          0           0  \n",
       "415          1           0          0           0  \n",
       "416          1           0          0           0  \n",
       "417          0           0          0           0  \n",
       "\n",
       "[418 rows x 27 columns]"
      ]
     },
     "execution_count": 57,
     "metadata": {},
     "output_type": "execute_result"
    }
   ],
   "source": [
    "features=['Pclass','Sex','SibSp','Parch','Embarked','cabin_adv','tittle','normalized_age','normalized_fare']\n",
    "test= pd.get_dummies(test_data[features])\n",
    "test"
   ]
  },
  {
   "cell_type": "markdown",
   "id": "eligible-friend",
   "metadata": {
    "papermill": {
     "duration": 0.115879,
     "end_time": "2021-06-20T16:37:21.538811",
     "exception": false,
     "start_time": "2021-06-20T16:37:21.422932",
     "status": "completed"
    },
    "tags": []
   },
   "source": [
    "Let's try fitting our model ang getting predictions"
   ]
  },
  {
   "cell_type": "code",
   "execution_count": 58,
   "id": "smart-motel",
   "metadata": {
    "execution": {
     "iopub.execute_input": "2021-06-20T16:37:21.776244Z",
     "iopub.status.busy": "2021-06-20T16:37:21.773811Z",
     "iopub.status.idle": "2021-06-20T16:37:21.990788Z",
     "shell.execute_reply": "2021-06-20T16:37:21.990098Z",
     "shell.execute_reply.started": "2021-06-20T16:35:52.854850Z"
    },
    "papermill": {
     "duration": 0.337937,
     "end_time": "2021-06-20T16:37:21.990937",
     "exception": false,
     "start_time": "2021-06-20T16:37:21.653000",
     "status": "completed"
    },
    "tags": []
   },
   "outputs": [
    {
     "ename": "ValueError",
     "evalue": "X has 27 features per sample; expecting 36",
     "output_type": "error",
     "traceback": [
      "\u001b[0;31m---------------------------------------------------------------------------\u001b[0m",
      "\u001b[0;31mValueError\u001b[0m                                Traceback (most recent call last)",
      "\u001b[0;32m<ipython-input-58-8c0925a8d665>\u001b[0m in \u001b[0;36m<module>\u001b[0;34m\u001b[0m\n\u001b[1;32m      1\u001b[0m \u001b[0mmodel\u001b[0m \u001b[0;34m=\u001b[0m \u001b[0mLogisticRegression\u001b[0m\u001b[0;34m(\u001b[0m\u001b[0mmax_iter\u001b[0m \u001b[0;34m=\u001b[0m \u001b[0;36m2000\u001b[0m\u001b[0;34m)\u001b[0m\u001b[0;34m\u001b[0m\u001b[0;34m\u001b[0m\u001b[0m\n\u001b[1;32m      2\u001b[0m \u001b[0mmodel\u001b[0m\u001b[0;34m.\u001b[0m\u001b[0mfit\u001b[0m\u001b[0;34m(\u001b[0m\u001b[0mnormalized_X_train\u001b[0m\u001b[0;34m,\u001b[0m\u001b[0myy_train\u001b[0m\u001b[0;34m)\u001b[0m\u001b[0;34m\u001b[0m\u001b[0;34m\u001b[0m\u001b[0m\n\u001b[0;32m----> 3\u001b[0;31m \u001b[0mpredictions\u001b[0m\u001b[0;34m=\u001b[0m\u001b[0mmodel\u001b[0m\u001b[0;34m.\u001b[0m\u001b[0mpredict\u001b[0m\u001b[0;34m(\u001b[0m\u001b[0mtest\u001b[0m\u001b[0;34m)\u001b[0m\u001b[0;34m\u001b[0m\u001b[0;34m\u001b[0m\u001b[0m\n\u001b[0m",
      "\u001b[0;32m/opt/conda/lib/python3.7/site-packages/sklearn/linear_model/_base.py\u001b[0m in \u001b[0;36mpredict\u001b[0;34m(self, X)\u001b[0m\n\u001b[1;32m    307\u001b[0m             \u001b[0mPredicted\u001b[0m \u001b[0;32mclass\u001b[0m \u001b[0mlabel\u001b[0m \u001b[0mper\u001b[0m \u001b[0msample\u001b[0m\u001b[0;34m.\u001b[0m\u001b[0;34m\u001b[0m\u001b[0;34m\u001b[0m\u001b[0m\n\u001b[1;32m    308\u001b[0m         \"\"\"\n\u001b[0;32m--> 309\u001b[0;31m         \u001b[0mscores\u001b[0m \u001b[0;34m=\u001b[0m \u001b[0mself\u001b[0m\u001b[0;34m.\u001b[0m\u001b[0mdecision_function\u001b[0m\u001b[0;34m(\u001b[0m\u001b[0mX\u001b[0m\u001b[0;34m)\u001b[0m\u001b[0;34m\u001b[0m\u001b[0;34m\u001b[0m\u001b[0m\n\u001b[0m\u001b[1;32m    310\u001b[0m         \u001b[0;32mif\u001b[0m \u001b[0mlen\u001b[0m\u001b[0;34m(\u001b[0m\u001b[0mscores\u001b[0m\u001b[0;34m.\u001b[0m\u001b[0mshape\u001b[0m\u001b[0;34m)\u001b[0m \u001b[0;34m==\u001b[0m \u001b[0;36m1\u001b[0m\u001b[0;34m:\u001b[0m\u001b[0;34m\u001b[0m\u001b[0;34m\u001b[0m\u001b[0m\n\u001b[1;32m    311\u001b[0m             \u001b[0mindices\u001b[0m \u001b[0;34m=\u001b[0m \u001b[0;34m(\u001b[0m\u001b[0mscores\u001b[0m \u001b[0;34m>\u001b[0m \u001b[0;36m0\u001b[0m\u001b[0;34m)\u001b[0m\u001b[0;34m.\u001b[0m\u001b[0mastype\u001b[0m\u001b[0;34m(\u001b[0m\u001b[0mint\u001b[0m\u001b[0;34m)\u001b[0m\u001b[0;34m\u001b[0m\u001b[0;34m\u001b[0m\u001b[0m\n",
      "\u001b[0;32m/opt/conda/lib/python3.7/site-packages/sklearn/linear_model/_base.py\u001b[0m in \u001b[0;36mdecision_function\u001b[0;34m(self, X)\u001b[0m\n\u001b[1;32m    287\u001b[0m         \u001b[0;32mif\u001b[0m \u001b[0mX\u001b[0m\u001b[0;34m.\u001b[0m\u001b[0mshape\u001b[0m\u001b[0;34m[\u001b[0m\u001b[0;36m1\u001b[0m\u001b[0;34m]\u001b[0m \u001b[0;34m!=\u001b[0m \u001b[0mn_features\u001b[0m\u001b[0;34m:\u001b[0m\u001b[0;34m\u001b[0m\u001b[0;34m\u001b[0m\u001b[0m\n\u001b[1;32m    288\u001b[0m             raise ValueError(\"X has %d features per sample; expecting %d\"\n\u001b[0;32m--> 289\u001b[0;31m                              % (X.shape[1], n_features))\n\u001b[0m\u001b[1;32m    290\u001b[0m \u001b[0;34m\u001b[0m\u001b[0m\n\u001b[1;32m    291\u001b[0m         scores = safe_sparse_dot(X, self.coef_.T,\n",
      "\u001b[0;31mValueError\u001b[0m: X has 27 features per sample; expecting 36"
     ]
    }
   ],
   "source": [
    "model = LogisticRegression(max_iter = 2000)\n",
    "model.fit(normalized_X_train,yy_train)\n",
    "predictions=model.predict(test)\n"
   ]
  },
  {
   "cell_type": "markdown",
   "id": "operating-contributor",
   "metadata": {
    "papermill": {
     "duration": 0.115136,
     "end_time": "2021-06-20T16:37:22.220144",
     "exception": false,
     "start_time": "2021-06-20T16:37:22.105008",
     "status": "completed"
    },
    "tags": []
   },
   "source": [
    "From the error code above we have less features (columns) than our model expects. This means the training set we used to train our model has more columns that the test set we want to get predictions for. Let's see what columns are in our train set but not in out test set."
   ]
  },
  {
   "cell_type": "code",
   "execution_count": 59,
   "id": "coordinated-afghanistan",
   "metadata": {
    "execution": {
     "iopub.execute_input": "2021-06-20T16:37:22.457059Z",
     "iopub.status.busy": "2021-06-20T16:37:22.456400Z",
     "iopub.status.idle": "2021-06-20T16:37:22.459222Z",
     "shell.execute_reply": "2021-06-20T16:37:22.459775Z",
     "shell.execute_reply.started": "2021-06-20T16:36:01.552652Z"
    },
    "papermill": {
     "duration": 0.124313,
     "end_time": "2021-06-20T16:37:22.459940",
     "exception": false,
     "start_time": "2021-06-20T16:37:22.335627",
     "status": "completed"
    },
    "tags": []
   },
   "outputs": [
    {
     "data": {
      "text/plain": [
       "['cabin_adv_T',\n",
       " 'tittle_Capt',\n",
       " 'tittle_Don',\n",
       " 'tittle_Jonkheer',\n",
       " 'tittle_Lady',\n",
       " 'tittle_Major',\n",
       " 'tittle_Mlle',\n",
       " 'tittle_Mme',\n",
       " 'tittle_Sir',\n",
       " 'tittle_the Countess']"
      ]
     },
     "execution_count": 59,
     "metadata": {},
     "output_type": "execute_result"
    }
   ],
   "source": [
    "col=[]\n",
    "for i in normalized_train_dummies.columns:\n",
    "    if i not in test.columns:\n",
    "        col.append(i)\n",
    "col"
   ]
  },
  {
   "cell_type": "markdown",
   "id": "functional-colors",
   "metadata": {
    "papermill": {
     "duration": 0.113863,
     "end_time": "2021-06-20T16:37:22.689038",
     "exception": false,
     "start_time": "2021-06-20T16:37:22.575175",
     "status": "completed"
    },
    "tags": []
   },
   "source": [
    "From the outputs above its clears that our test set has no cabin number starting witn a 'T' and does not have some tittles. We can go around this by creating dummy variables for those columns and filling them with zeros, this would fill our data set and not have side efffects."
   ]
  },
  {
   "cell_type": "code",
   "execution_count": 60,
   "id": "competitive-blues",
   "metadata": {
    "execution": {
     "iopub.execute_input": "2021-06-20T16:37:22.922011Z",
     "iopub.status.busy": "2021-06-20T16:37:22.921405Z",
     "iopub.status.idle": "2021-06-20T16:37:22.931225Z",
     "shell.execute_reply": "2021-06-20T16:37:22.931864Z",
     "shell.execute_reply.started": "2021-06-20T16:36:03.375094Z"
    },
    "papermill": {
     "duration": 0.128286,
     "end_time": "2021-06-20T16:37:22.932041",
     "exception": false,
     "start_time": "2021-06-20T16:37:22.803755",
     "status": "completed"
    },
    "tags": []
   },
   "outputs": [],
   "source": [
    "for i in col:\n",
    "    test[i]=[0]*418"
   ]
  },
  {
   "cell_type": "code",
   "execution_count": 61,
   "id": "outstanding-bullet",
   "metadata": {
    "execution": {
     "iopub.execute_input": "2021-06-20T16:37:23.165139Z",
     "iopub.status.busy": "2021-06-20T16:37:23.164552Z",
     "iopub.status.idle": "2021-06-20T16:37:23.171217Z",
     "shell.execute_reply": "2021-06-20T16:37:23.170706Z",
     "shell.execute_reply.started": "2021-06-20T16:36:03.911333Z"
    },
    "papermill": {
     "duration": 0.123369,
     "end_time": "2021-06-20T16:37:23.171351",
     "exception": false,
     "start_time": "2021-06-20T16:37:23.047982",
     "status": "completed"
    },
    "tags": []
   },
   "outputs": [
    {
     "data": {
      "text/plain": [
       "Index(['Pclass', 'SibSp', 'Parch', 'normalized_age', 'normalized_fare',\n",
       "       'Sex_female', 'Sex_male', 'Embarked_C', 'Embarked_Q', 'Embarked_S',\n",
       "       'cabin_adv_A', 'cabin_adv_B', 'cabin_adv_C', 'cabin_adv_D',\n",
       "       'cabin_adv_E', 'cabin_adv_F', 'cabin_adv_G', 'cabin_adv_n',\n",
       "       'tittle_Col', 'tittle_Dona', 'tittle_Dr', 'tittle_Master',\n",
       "       'tittle_Miss', 'tittle_Mr', 'tittle_Mrs', 'tittle_Ms', 'tittle_Rev',\n",
       "       'cabin_adv_T', 'tittle_Capt', 'tittle_Don', 'tittle_Jonkheer',\n",
       "       'tittle_Lady', 'tittle_Major', 'tittle_Mlle', 'tittle_Mme',\n",
       "       'tittle_Sir', 'tittle_the Countess'],\n",
       "      dtype='object')"
      ]
     },
     "execution_count": 61,
     "metadata": {},
     "output_type": "execute_result"
    }
   ],
   "source": [
    "test.columns"
   ]
  },
  {
   "cell_type": "markdown",
   "id": "coral-british",
   "metadata": {
    "papermill": {
     "duration": 0.114788,
     "end_time": "2021-06-20T16:37:23.400573",
     "exception": false,
     "start_time": "2021-06-20T16:37:23.285785",
     "status": "completed"
    },
    "tags": []
   },
   "source": [
    "Now that we have filled our columns we should also check if our test set has columns that are not in out train set"
   ]
  },
  {
   "cell_type": "code",
   "execution_count": 62,
   "id": "identical-newark",
   "metadata": {
    "execution": {
     "iopub.execute_input": "2021-06-20T16:37:23.659456Z",
     "iopub.status.busy": "2021-06-20T16:37:23.658796Z",
     "iopub.status.idle": "2021-06-20T16:37:23.663566Z",
     "shell.execute_reply": "2021-06-20T16:37:23.664120Z",
     "shell.execute_reply.started": "2021-06-20T16:36:04.843188Z"
    },
    "papermill": {
     "duration": 0.149453,
     "end_time": "2021-06-20T16:37:23.664291",
     "exception": false,
     "start_time": "2021-06-20T16:37:23.514838",
     "status": "completed"
    },
    "tags": []
   },
   "outputs": [
    {
     "data": {
      "text/plain": [
       "['tittle_Dona']"
      ]
     },
     "execution_count": 62,
     "metadata": {},
     "output_type": "execute_result"
    }
   ],
   "source": [
    "col=[]\n",
    "for i in test.columns:\n",
    "    if i not in normalized_train_dummies.columns:\n",
    "        col.append(i)\n",
    "col"
   ]
  },
  {
   "cell_type": "markdown",
   "id": "surprising-forty",
   "metadata": {
    "papermill": {
     "duration": 0.116818,
     "end_time": "2021-06-20T16:37:23.899508",
     "exception": false,
     "start_time": "2021-06-20T16:37:23.782690",
     "status": "completed"
    },
    "tags": []
   },
   "source": [
    "Our test set has a column which our train set does not have, we could go back to our train set and create that column or we could just drop this column from our test set. The later will be done in the next cell"
   ]
  },
  {
   "cell_type": "code",
   "execution_count": 63,
   "id": "still-helping",
   "metadata": {
    "execution": {
     "iopub.execute_input": "2021-06-20T16:37:24.137660Z",
     "iopub.status.busy": "2021-06-20T16:37:24.136975Z",
     "iopub.status.idle": "2021-06-20T16:37:24.142290Z",
     "shell.execute_reply": "2021-06-20T16:37:24.142765Z",
     "shell.execute_reply.started": "2021-06-20T16:36:05.820150Z"
    },
    "papermill": {
     "duration": 0.126366,
     "end_time": "2021-06-20T16:37:24.142938",
     "exception": false,
     "start_time": "2021-06-20T16:37:24.016572",
     "status": "completed"
    },
    "tags": []
   },
   "outputs": [],
   "source": [
    "test.drop('tittle_Dona', axis=1, inplace=True)"
   ]
  },
  {
   "cell_type": "markdown",
   "id": "secondary-directive",
   "metadata": {
    "papermill": {
     "duration": 0.116155,
     "end_time": "2021-06-20T16:37:24.375383",
     "exception": false,
     "start_time": "2021-06-20T16:37:24.259228",
     "status": "completed"
    },
    "tags": []
   },
   "source": [
    "Finally we can fit our model and make predictions."
   ]
  },
  {
   "cell_type": "code",
   "execution_count": 64,
   "id": "certain-client",
   "metadata": {
    "execution": {
     "iopub.execute_input": "2021-06-20T16:37:24.611242Z",
     "iopub.status.busy": "2021-06-20T16:37:24.610294Z",
     "iopub.status.idle": "2021-06-20T16:37:24.672551Z",
     "shell.execute_reply": "2021-06-20T16:37:24.673595Z",
     "shell.execute_reply.started": "2021-06-20T16:36:06.741979Z"
    },
    "papermill": {
     "duration": 0.182848,
     "end_time": "2021-06-20T16:37:24.673877",
     "exception": false,
     "start_time": "2021-06-20T16:37:24.491029",
     "status": "completed"
    },
    "tags": []
   },
   "outputs": [
    {
     "name": "stdout",
     "output_type": "stream",
     "text": [
      "Your submission was successfully saved!\n"
     ]
    }
   ],
   "source": [
    "model = LogisticRegression(max_iter = 2000)\n",
    "model.fit(normalized_X_train,yy_train)\n",
    "predictions=model.predict(test)\n",
    "\n",
    "output = pd.DataFrame({'PassengerId': test_data.PassengerId, 'Survived': predictions})\n",
    "output.to_csv('my_submission.csv', index=False)\n",
    "print(\"Your submission was successfully saved!\")"
   ]
  },
  {
   "cell_type": "code",
   "execution_count": null,
   "id": "rental-ireland",
   "metadata": {
    "papermill": {
     "duration": 0.116412,
     "end_time": "2021-06-20T16:37:24.967713",
     "exception": false,
     "start_time": "2021-06-20T16:37:24.851301",
     "status": "completed"
    },
    "tags": []
   },
   "outputs": [],
   "source": []
  }
 ],
 "metadata": {
  "kernelspec": {
   "display_name": "Python 3",
   "language": "python",
   "name": "python3"
  },
  "language_info": {
   "codemirror_mode": {
    "name": "ipython",
    "version": 3
   },
   "file_extension": ".py",
   "mimetype": "text/x-python",
   "name": "python",
   "nbconvert_exporter": "python",
   "pygments_lexer": "ipython3",
   "version": "3.7.10"
  },
  "papermill": {
   "default_parameters": {},
   "duration": 55.871943,
   "end_time": "2021-06-20T16:37:25.996018",
   "environment_variables": {},
   "exception": null,
   "input_path": "__notebook__.ipynb",
   "output_path": "__notebook__.ipynb",
   "parameters": {},
   "start_time": "2021-06-20T16:36:30.124075",
   "version": "2.3.3"
  }
 },
 "nbformat": 4,
 "nbformat_minor": 5
}
